{
 "cells": [
  {
   "cell_type": "code",
   "id": "initial_id",
   "metadata": {
    "collapsed": true,
    "ExecuteTime": {
     "end_time": "2024-08-18T13:53:03.200936Z",
     "start_time": "2024-08-18T13:53:03.198410Z"
    }
   },
   "source": [
    "# Importation des librairies\n",
    "import json\n",
    "import os\n",
    "import numpy as np\n",
    "import pandas as pd\n",
    "from sklearn.model_selection import StratifiedKFold, cross_validate\n",
    "from xgboost import XGBClassifier"
   ],
   "outputs": [],
   "execution_count": 32
  },
  {
   "metadata": {
    "ExecuteTime": {
     "end_time": "2024-08-18T11:55:11.959230Z",
     "start_time": "2024-08-18T11:55:11.956934Z"
    }
   },
   "cell_type": "code",
   "source": "pd.set_option('future.no_silent_downcasting', True)",
   "id": "dec3ded3fbb1c10e",
   "outputs": [],
   "execution_count": 26
  },
  {
   "metadata": {
    "ExecuteTime": {
     "end_time": "2024-08-18T11:55:14.018035Z",
     "start_time": "2024-08-18T11:55:14.012193Z"
    }
   },
   "cell_type": "code",
   "source": [
    "def read_csv_files_to_dict(base_path, dimension, file_prefix, missing_percentages, strategies=None):\n",
    "    dataframes_dict = {}\n",
    "\n",
    "    for percentage in missing_percentages:\n",
    "        percentage_key = f\"{int(percentage * 100)}%\"\n",
    "\n",
    "        if dimension == 'Completeness':\n",
    "            dataframes_dict[percentage_key] = {}\n",
    "\n",
    "            if strategies is not None:\n",
    "                for strategy_name, strategy_func, subfolder in strategies:\n",
    "                    file_path = f\"{base_path}/{dimension}/{subfolder}/{file_prefix}_{percentage_key}.csv\"\n",
    "\n",
    "                    try:\n",
    "                        df = pd.read_csv(file_path)\n",
    "                        dataframes_dict[percentage_key][strategy_name] = df\n",
    "                    except FileNotFoundError:\n",
    "                        print(f\"File not found: {file_path}\")\n",
    "                        dataframes_dict[percentage_key][strategy_name] = None\n",
    "            else:\n",
    "                print(\"No strategies provided for Completeness dimension.\")\n",
    "        elif dimension == 'Unicity':\n",
    "            file_path = f\"{base_path}/{dimension}/{file_prefix}_{percentage_key}_2x.csv\"\n",
    "            try:\n",
    "                df = pd.read_csv(file_path)\n",
    "                dataframes_dict[percentage_key] = df\n",
    "            except FileNotFoundError:\n",
    "                print(f\"File not found: {file_path}\")\n",
    "                dataframes_dict[percentage_key] = None\n",
    "        else:\n",
    "            file_path = f\"{base_path}/{dimension}/{file_prefix}_{percentage_key}.csv\"\n",
    "            try:\n",
    "                df = pd.read_csv(file_path)\n",
    "                dataframes_dict[percentage_key] = df\n",
    "            except FileNotFoundError:\n",
    "                print(f\"File not found: {file_path}\")\n",
    "                dataframes_dict[percentage_key] = None\n",
    "\n",
    "    return dataframes_dict\n",
    "\n",
    "\n",
    "def train_and_evaluate(X, y):\n",
    "    model = XGBClassifier()\n",
    "    kfold = StratifiedKFold(n_splits=5, shuffle=True, random_state=42)\n",
    "\n",
    "    scoring = ['accuracy', 'precision_macro', 'recall_macro', 'f1_macro']\n",
    "    cv_results = cross_validate(model, X, y, cv=kfold, scoring=scoring)\n",
    "\n",
    "    results = {\n",
    "        \"accuracy\": cv_results['test_accuracy'].mean(),\n",
    "        \"precision\": cv_results['test_precision_macro'].mean(),\n",
    "        \"recall\": cv_results['test_recall_macro'].mean(),\n",
    "        \"f1_score\": cv_results['test_f1_macro'].mean()\n",
    "    }\n",
    "\n",
    "    return results"
   ],
   "id": "91c862aa323a3719",
   "outputs": [],
   "execution_count": 27
  },
  {
   "metadata": {},
   "cell_type": "markdown",
   "source": "## Completeness",
   "id": "27e37d96b13e955d"
  },
  {
   "metadata": {
    "ExecuteTime": {
     "end_time": "2024-08-18T12:15:05.279782Z",
     "start_time": "2024-08-18T12:09:58.237360Z"
    }
   },
   "cell_type": "code",
   "source": [
    "missing_percentages = [0.0, 0.1, 0.2, 0.3, 0.4, 0.5, 0.6, 0.7, 0.8]\n",
    "\n",
    "# Strategy :\n",
    "strategy_delete = {\n",
    "    'numerical': 'delete',\n",
    "    'categorical': 'delete'\n",
    "}\n",
    "\n",
    "strategy_mean_mode = {\n",
    "    'numerical': 'mean',\n",
    "    'categorical': 'mode'\n",
    "}\n",
    "\n",
    "strategy_median_new = {\n",
    "    'numerical': 'median',\n",
    "    'categorical': 'new'\n",
    "}\n",
    "\n",
    "strategy_decision_tree = {\n",
    "    'numerical': 'decision_tree',\n",
    "    'categorical': 'decision_tree'\n",
    "}\n",
    "\n",
    "strategy_mean_new = {\n",
    "    'numerical': 'mean',\n",
    "    'categorical': 'new'\n",
    "}\n",
    "\n",
    "strategy_knn_mode = {\n",
    "    'numerical': 'knn',\n",
    "    'categorical': 'mode'\n",
    "}\n",
    "\n",
    "strategies = [\n",
    "    # (\"Delete lines\", strategy_delete, \"Delete lines\"),\n",
    "    (\"Mean and Mode\", strategy_mean_mode, \"Mean and Mode\"),\n",
    "    (\"Median and New\", strategy_median_new, \"Median and New\"),\n",
    "    (\"Decision Tree\", strategy_decision_tree, \"Decision Tree\"),\n",
    "    (\"Mean and New\", strategy_mean_new, \"Mean and New\")\n",
    "    # (\"KNN and Mode\", strategy_knn_mode, \"KNN and Mode\")\n",
    "]\n",
    "\n",
    "heart_df_dict = read_csv_files_to_dict('../../Data/Classification/Indicators of Heart Disease', 'Completeness', 'heart', missing_percentages, strategies)\n",
    "\n",
    "# Dictionnaire pour stocker les résultats\n",
    "results_dict = {\n",
    "    \"models\": [\n",
    "        {\n",
    "            \"model\": \"XGBoost\",\n",
    "            \"imputation_strategies\": []\n",
    "        }\n",
    "    ]\n",
    "}\n",
    "\n",
    "# Boucle sur les DataFrames pour chaque pourcentage de pollution\n",
    "for key, heart_df_strategies in heart_df_dict.items():\n",
    "    print(key)\n",
    "    for strategy, heart_df in heart_df_strategies.items():\n",
    "        print(strategy)\n",
    "        heart_df['HadHeartAttack'] = heart_df['HadHeartAttack'].replace({'Yes': True, 'No': False}).astype(bool)\n",
    "        heart_df = pd.get_dummies(heart_df, drop_first=True)\n",
    "        X = heart_df.drop('HadHeartAttack', axis=1)\n",
    "        y = heart_df['HadHeartAttack']\n",
    "        print(X.shape)\n",
    "        print(y.shape)\n",
    "        results = train_and_evaluate(X, y)\n",
    "\n",
    "        # Extraire le pourcentage de pollution à partir de la clé\n",
    "        pollution_percentage = int(key.replace('%', ''))\n",
    "\n",
    "        # Trouver ou créer l'entrée pour la stratégie d'imputation actuelle\n",
    "        strategy_entry = next((item for item in results_dict[\"models\"][0][\"imputation_strategies\"] if item[\"strategy\"] == strategy), None)\n",
    "\n",
    "        if not strategy_entry:\n",
    "            # Ajouter une nouvelle stratégie d'imputation si elle n'existe pas encore\n",
    "            strategy_entry = {\n",
    "                \"strategy\": strategy,\n",
    "                \"pollution_metrics\": []\n",
    "            }\n",
    "            results_dict[\"models\"][0][\"imputation_strategies\"].append(strategy_entry)\n",
    "\n",
    "        # Ajouter les résultats au dictionnaire sous la bonne stratégie\n",
    "        strategy_entry[\"pollution_metrics\"].append({\n",
    "            \"pollution_percentage\": pollution_percentage,\n",
    "            \"metrics\": results\n",
    "        })\n",
    "        \n",
    "        print(strategy_entry)"
   ],
   "id": "a55ba56c47695d0",
   "outputs": [
    {
     "name": "stdout",
     "output_type": "stream",
     "text": [
      "0%\n",
      "Mean and Mode\n",
      "(246022, 122)\n",
      "(246022,)\n",
      "{'strategy': 'Mean and Mode', 'pollution_metrics': [{'pollution_percentage': 0, 'metrics': {'accuracy': 0.9478867709283898, 'precision': 0.7546709544012085, 'recall': 0.6166185651988428, 'f1_score': 0.6559323267381035}}]}\n",
      "Median and New\n",
      "(246022, 122)\n",
      "(246022,)\n",
      "{'strategy': 'Median and New', 'pollution_metrics': [{'pollution_percentage': 0, 'metrics': {'accuracy': 0.9478867709283898, 'precision': 0.7546709544012085, 'recall': 0.6166185651988428, 'f1_score': 0.6559323267381035}}]}\n",
      "Decision Tree\n",
      "(246022, 122)\n",
      "(246022,)\n",
      "{'strategy': 'Decision Tree', 'pollution_metrics': [{'pollution_percentage': 0, 'metrics': {'accuracy': 0.9478867709283898, 'precision': 0.7546709544012085, 'recall': 0.6166185651988428, 'f1_score': 0.6559323267381035}}]}\n",
      "Mean and New\n",
      "(246022, 122)\n",
      "(246022,)\n",
      "{'strategy': 'Mean and New', 'pollution_metrics': [{'pollution_percentage': 0, 'metrics': {'accuracy': 0.9478867709283898, 'precision': 0.7546709544012085, 'recall': 0.6166185651988428, 'f1_score': 0.6559323267381035}}]}\n",
      "10%\n",
      "Mean and Mode\n",
      "(246022, 122)\n",
      "(246022,)\n",
      "{'strategy': 'Mean and Mode', 'pollution_metrics': [{'pollution_percentage': 0, 'metrics': {'accuracy': 0.9478867709283898, 'precision': 0.7546709544012085, 'recall': 0.6166185651988428, 'f1_score': 0.6559323267381035}}, {'pollution_percentage': 10, 'metrics': {'accuracy': 0.9471226111133199, 'precision': 0.7481034869494845, 'recall': 0.6016618192935692, 'f1_score': 0.6394333111112875}}]}\n",
      "Median and New\n",
      "(246022, 155)\n",
      "(246022,)\n",
      "{'strategy': 'Median and New', 'pollution_metrics': [{'pollution_percentage': 0, 'metrics': {'accuracy': 0.9478867709283898, 'precision': 0.7546709544012085, 'recall': 0.6166185651988428, 'f1_score': 0.6559323267381035}}, {'pollution_percentage': 10, 'metrics': {'accuracy': 0.9471348026004331, 'precision': 0.7478843340940746, 'recall': 0.6038073246066298, 'f1_score': 0.6417009383994973}}]}\n",
      "Decision Tree\n",
      "(246022, 122)\n",
      "(246022,)\n",
      "{'strategy': 'Decision Tree', 'pollution_metrics': [{'pollution_percentage': 0, 'metrics': {'accuracy': 0.9478867709283898, 'precision': 0.7546709544012085, 'recall': 0.6166185651988428, 'f1_score': 0.6559323267381035}}, {'pollution_percentage': 10, 'metrics': {'accuracy': 0.9479070944793208, 'precision': 0.7551654540177452, 'recall': 0.6149461220688343, 'f1_score': 0.6543381497456673}}]}\n",
      "Mean and New\n",
      "(246022, 155)\n",
      "(246022,)\n",
      "{'strategy': 'Mean and New', 'pollution_metrics': [{'pollution_percentage': 0, 'metrics': {'accuracy': 0.9478867709283898, 'precision': 0.7546709544012085, 'recall': 0.6166185651988428, 'f1_score': 0.6559323267381035}}, {'pollution_percentage': 10, 'metrics': {'accuracy': 0.9473624281056192, 'precision': 0.7504970292137794, 'recall': 0.604593975059071, 'f1_score': 0.6428935335095416}}]}\n",
      "20%\n",
      "Mean and Mode\n",
      "(246022, 122)\n",
      "(246022,)\n",
      "{'strategy': 'Mean and Mode', 'pollution_metrics': [{'pollution_percentage': 0, 'metrics': {'accuracy': 0.9478867709283898, 'precision': 0.7546709544012085, 'recall': 0.6166185651988428, 'f1_score': 0.6559323267381035}}, {'pollution_percentage': 10, 'metrics': {'accuracy': 0.9471226111133199, 'precision': 0.7481034869494845, 'recall': 0.6016618192935692, 'f1_score': 0.6394333111112875}}, {'pollution_percentage': 20, 'metrics': {'accuracy': 0.9463340658457937, 'precision': 0.739451215789609, 'recall': 0.5883753703712403, 'f1_score': 0.6235994123381893}}]}\n",
      "Median and New\n",
      "(246022, 155)\n",
      "(246022,)\n",
      "{'strategy': 'Median and New', 'pollution_metrics': [{'pollution_percentage': 0, 'metrics': {'accuracy': 0.9478867709283898, 'precision': 0.7546709544012085, 'recall': 0.6166185651988428, 'f1_score': 0.6559323267381035}}, {'pollution_percentage': 10, 'metrics': {'accuracy': 0.9471348026004331, 'precision': 0.7478843340940746, 'recall': 0.6038073246066298, 'f1_score': 0.6417009383994973}}, {'pollution_percentage': 20, 'metrics': {'accuracy': 0.9464844567357675, 'precision': 0.7410044199764731, 'recall': 0.5937148824623497, 'f1_score': 0.6298289366178418}}]}\n",
      "Decision Tree\n",
      "(246022, 122)\n",
      "(246022,)\n",
      "{'strategy': 'Decision Tree', 'pollution_metrics': [{'pollution_percentage': 0, 'metrics': {'accuracy': 0.9478867709283898, 'precision': 0.7546709544012085, 'recall': 0.6166185651988428, 'f1_score': 0.6559323267381035}}, {'pollution_percentage': 10, 'metrics': {'accuracy': 0.9479070944793208, 'precision': 0.7551654540177452, 'recall': 0.6149461220688343, 'f1_score': 0.6543381497456673}}, {'pollution_percentage': 20, 'metrics': {'accuracy': 0.9479558718276312, 'precision': 0.7556609098624123, 'recall': 0.6155329827748407, 'f1_score': 0.6550158037170144}}]}\n",
      "Mean and New\n",
      "(246022, 155)\n",
      "(246022,)\n",
      "{'strategy': 'Mean and New', 'pollution_metrics': [{'pollution_percentage': 0, 'metrics': {'accuracy': 0.9478867709283898, 'precision': 0.7546709544012085, 'recall': 0.6166185651988428, 'f1_score': 0.6559323267381035}}, {'pollution_percentage': 10, 'metrics': {'accuracy': 0.9473624281056192, 'precision': 0.7504970292137794, 'recall': 0.604593975059071, 'f1_score': 0.6428935335095416}}, {'pollution_percentage': 20, 'metrics': {'accuracy': 0.946557622345195, 'precision': 0.7420214273503098, 'recall': 0.5929119826957392, 'f1_score': 0.6290574336959505}}]}\n",
      "30%\n",
      "Mean and Mode\n",
      "(246022, 122)\n",
      "(246022,)\n",
      "{'strategy': 'Mean and Mode', 'pollution_metrics': [{'pollution_percentage': 0, 'metrics': {'accuracy': 0.9478867709283898, 'precision': 0.7546709544012085, 'recall': 0.6166185651988428, 'f1_score': 0.6559323267381035}}, {'pollution_percentage': 10, 'metrics': {'accuracy': 0.9471226111133199, 'precision': 0.7481034869494845, 'recall': 0.6016618192935692, 'f1_score': 0.6394333111112875}}, {'pollution_percentage': 20, 'metrics': {'accuracy': 0.9463340658457937, 'precision': 0.739451215789609, 'recall': 0.5883753703712403, 'f1_score': 0.6235994123381893}}, {'pollution_percentage': 30, 'metrics': {'accuracy': 0.9460779926561951, 'precision': 0.7367427021630385, 'recall': 0.5796837122442435, 'f1_score': 0.6131629970219075}}]}\n",
      "Median and New\n",
      "(246022, 155)\n",
      "(246022,)\n",
      "{'strategy': 'Median and New', 'pollution_metrics': [{'pollution_percentage': 0, 'metrics': {'accuracy': 0.9478867709283898, 'precision': 0.7546709544012085, 'recall': 0.6166185651988428, 'f1_score': 0.6559323267381035}}, {'pollution_percentage': 10, 'metrics': {'accuracy': 0.9471348026004331, 'precision': 0.7478843340940746, 'recall': 0.6038073246066298, 'f1_score': 0.6417009383994973}}, {'pollution_percentage': 20, 'metrics': {'accuracy': 0.9464844567357675, 'precision': 0.7410044199764731, 'recall': 0.5937148824623497, 'f1_score': 0.6298289366178418}}, {'pollution_percentage': 30, 'metrics': {'accuracy': 0.94633406526754, 'precision': 0.7396091075382082, 'recall': 0.5871480424672828, 'f1_score': 0.6222392122460632}}]}\n",
      "Decision Tree\n",
      "(246022, 122)\n",
      "(246022,)\n",
      "{'strategy': 'Decision Tree', 'pollution_metrics': [{'pollution_percentage': 0, 'metrics': {'accuracy': 0.9478867709283898, 'precision': 0.7546709544012085, 'recall': 0.6166185651988428, 'f1_score': 0.6559323267381035}}, {'pollution_percentage': 10, 'metrics': {'accuracy': 0.9479070944793208, 'precision': 0.7551654540177452, 'recall': 0.6149461220688343, 'f1_score': 0.6543381497456673}}, {'pollution_percentage': 20, 'metrics': {'accuracy': 0.9479558718276312, 'precision': 0.7556609098624123, 'recall': 0.6155329827748407, 'f1_score': 0.6550158037170144}}, {'pollution_percentage': 30, 'metrics': {'accuracy': 0.9481631649428663, 'precision': 0.7574107185144912, 'recall': 0.6186934019205768, 'f1_score': 0.6584805328585212}}]}\n",
      "Mean and New\n",
      "(246022, 155)\n",
      "(246022,)\n",
      "{'strategy': 'Mean and New', 'pollution_metrics': [{'pollution_percentage': 0, 'metrics': {'accuracy': 0.9478867709283898, 'precision': 0.7546709544012085, 'recall': 0.6166185651988428, 'f1_score': 0.6559323267381035}}, {'pollution_percentage': 10, 'metrics': {'accuracy': 0.9473624281056192, 'precision': 0.7504970292137794, 'recall': 0.604593975059071, 'f1_score': 0.6428935335095416}}, {'pollution_percentage': 20, 'metrics': {'accuracy': 0.946557622345195, 'precision': 0.7420214273503098, 'recall': 0.5929119826957392, 'f1_score': 0.6290574336959505}}, {'pollution_percentage': 30, 'metrics': {'accuracy': 0.9464356831048019, 'precision': 0.7411663752604072, 'recall': 0.5858341925500601, 'f1_score': 0.6208806207165153}}]}\n",
      "40%\n",
      "Mean and Mode\n",
      "(246022, 122)\n",
      "(246022,)\n",
      "{'strategy': 'Mean and Mode', 'pollution_metrics': [{'pollution_percentage': 0, 'metrics': {'accuracy': 0.9478867709283898, 'precision': 0.7546709544012085, 'recall': 0.6166185651988428, 'f1_score': 0.6559323267381035}}, {'pollution_percentage': 10, 'metrics': {'accuracy': 0.9471226111133199, 'precision': 0.7481034869494845, 'recall': 0.6016618192935692, 'f1_score': 0.6394333111112875}}, {'pollution_percentage': 20, 'metrics': {'accuracy': 0.9463340658457937, 'precision': 0.739451215789609, 'recall': 0.5883753703712403, 'f1_score': 0.6235994123381893}}, {'pollution_percentage': 30, 'metrics': {'accuracy': 0.9460779926561951, 'precision': 0.7367427021630385, 'recall': 0.5796837122442435, 'f1_score': 0.6131629970219075}}, {'pollution_percentage': 40, 'metrics': {'accuracy': 0.9453991920854653, 'precision': 0.7262987528420298, 'recall': 0.5648071804645449, 'f1_score': 0.5937102484901947}}]}\n",
      "Median and New\n",
      "(246022, 155)\n",
      "(246022,)\n",
      "{'strategy': 'Median and New', 'pollution_metrics': [{'pollution_percentage': 0, 'metrics': {'accuracy': 0.9478867709283898, 'precision': 0.7546709544012085, 'recall': 0.6166185651988428, 'f1_score': 0.6559323267381035}}, {'pollution_percentage': 10, 'metrics': {'accuracy': 0.9471348026004331, 'precision': 0.7478843340940746, 'recall': 0.6038073246066298, 'f1_score': 0.6417009383994973}}, {'pollution_percentage': 20, 'metrics': {'accuracy': 0.9464844567357675, 'precision': 0.7410044199764731, 'recall': 0.5937148824623497, 'f1_score': 0.6298289366178418}}, {'pollution_percentage': 30, 'metrics': {'accuracy': 0.94633406526754, 'precision': 0.7396091075382082, 'recall': 0.5871480424672828, 'f1_score': 0.6222392122460632}}, {'pollution_percentage': 40, 'metrics': {'accuracy': 0.9454195121668741, 'precision': 0.7269332090930365, 'recall': 0.5680791109422442, 'f1_score': 0.5979707740597371}}]}\n",
      "Decision Tree\n",
      "(246022, 122)\n",
      "(246022,)\n",
      "{'strategy': 'Decision Tree', 'pollution_metrics': [{'pollution_percentage': 0, 'metrics': {'accuracy': 0.9478867709283898, 'precision': 0.7546709544012085, 'recall': 0.6166185651988428, 'f1_score': 0.6559323267381035}}, {'pollution_percentage': 10, 'metrics': {'accuracy': 0.9479070944793208, 'precision': 0.7551654540177452, 'recall': 0.6149461220688343, 'f1_score': 0.6543381497456673}}, {'pollution_percentage': 20, 'metrics': {'accuracy': 0.9479558718276312, 'precision': 0.7556609098624123, 'recall': 0.6155329827748407, 'f1_score': 0.6550158037170144}}, {'pollution_percentage': 30, 'metrics': {'accuracy': 0.9481631649428663, 'precision': 0.7574107185144912, 'recall': 0.6186934019205768, 'f1_score': 0.6584805328585212}}, {'pollution_percentage': 40, 'metrics': {'accuracy': 0.9483907916045597, 'precision': 0.75993031185297, 'recall': 0.6194449859908737, 'f1_score': 0.659638235913909}}]}\n",
      "Mean and New\n",
      "(246022, 155)\n",
      "(246022,)\n",
      "{'strategy': 'Mean and New', 'pollution_metrics': [{'pollution_percentage': 0, 'metrics': {'accuracy': 0.9478867709283898, 'precision': 0.7546709544012085, 'recall': 0.6166185651988428, 'f1_score': 0.6559323267381035}}, {'pollution_percentage': 10, 'metrics': {'accuracy': 0.9473624281056192, 'precision': 0.7504970292137794, 'recall': 0.604593975059071, 'f1_score': 0.6428935335095416}}, {'pollution_percentage': 20, 'metrics': {'accuracy': 0.946557622345195, 'precision': 0.7420214273503098, 'recall': 0.5929119826957392, 'f1_score': 0.6290574336959505}}, {'pollution_percentage': 30, 'metrics': {'accuracy': 0.9464356831048019, 'precision': 0.7411663752604072, 'recall': 0.5858341925500601, 'f1_score': 0.6208806207165153}}, {'pollution_percentage': 40, 'metrics': {'accuracy': 0.945151247077124, 'precision': 0.7226696329606019, 'recall': 0.5676917637176979, 'f1_score': 0.5971671464889463}}]}\n",
      "50%\n",
      "Mean and Mode\n",
      "(246022, 122)\n",
      "(246022,)\n",
      "{'strategy': 'Mean and Mode', 'pollution_metrics': [{'pollution_percentage': 0, 'metrics': {'accuracy': 0.9478867709283898, 'precision': 0.7546709544012085, 'recall': 0.6166185651988428, 'f1_score': 0.6559323267381035}}, {'pollution_percentage': 10, 'metrics': {'accuracy': 0.9471226111133199, 'precision': 0.7481034869494845, 'recall': 0.6016618192935692, 'f1_score': 0.6394333111112875}}, {'pollution_percentage': 20, 'metrics': {'accuracy': 0.9463340658457937, 'precision': 0.739451215789609, 'recall': 0.5883753703712403, 'f1_score': 0.6235994123381893}}, {'pollution_percentage': 30, 'metrics': {'accuracy': 0.9460779926561951, 'precision': 0.7367427021630385, 'recall': 0.5796837122442435, 'f1_score': 0.6131629970219075}}, {'pollution_percentage': 40, 'metrics': {'accuracy': 0.9453991920854653, 'precision': 0.7262987528420298, 'recall': 0.5648071804645449, 'f1_score': 0.5937102484901947}}, {'pollution_percentage': 50, 'metrics': {'accuracy': 0.9452609899565518, 'precision': 0.723556337026499, 'recall': 0.5542141386790604, 'f1_score': 0.5792978366179279}}]}\n",
      "Median and New\n",
      "(246022, 155)\n",
      "(246022,)\n",
      "{'strategy': 'Median and New', 'pollution_metrics': [{'pollution_percentage': 0, 'metrics': {'accuracy': 0.9478867709283898, 'precision': 0.7546709544012085, 'recall': 0.6166185651988428, 'f1_score': 0.6559323267381035}}, {'pollution_percentage': 10, 'metrics': {'accuracy': 0.9471348026004331, 'precision': 0.7478843340940746, 'recall': 0.6038073246066298, 'f1_score': 0.6417009383994973}}, {'pollution_percentage': 20, 'metrics': {'accuracy': 0.9464844567357675, 'precision': 0.7410044199764731, 'recall': 0.5937148824623497, 'f1_score': 0.6298289366178418}}, {'pollution_percentage': 30, 'metrics': {'accuracy': 0.94633406526754, 'precision': 0.7396091075382082, 'recall': 0.5871480424672828, 'f1_score': 0.6222392122460632}}, {'pollution_percentage': 40, 'metrics': {'accuracy': 0.9454195121668741, 'precision': 0.7269332090930365, 'recall': 0.5680791109422442, 'f1_score': 0.5979707740597371}}, {'pollution_percentage': 50, 'metrics': {'accuracy': 0.9453504135806472, 'precision': 0.7250948117275271, 'recall': 0.5583642136527855, 'f1_score': 0.5850889518943369}}]}\n",
      "Decision Tree\n",
      "(246022, 122)\n",
      "(246022,)\n",
      "{'strategy': 'Decision Tree', 'pollution_metrics': [{'pollution_percentage': 0, 'metrics': {'accuracy': 0.9478867709283898, 'precision': 0.7546709544012085, 'recall': 0.6166185651988428, 'f1_score': 0.6559323267381035}}, {'pollution_percentage': 10, 'metrics': {'accuracy': 0.9479070944793208, 'precision': 0.7551654540177452, 'recall': 0.6149461220688343, 'f1_score': 0.6543381497456673}}, {'pollution_percentage': 20, 'metrics': {'accuracy': 0.9479558718276312, 'precision': 0.7556609098624123, 'recall': 0.6155329827748407, 'f1_score': 0.6550158037170144}}, {'pollution_percentage': 30, 'metrics': {'accuracy': 0.9481631649428663, 'precision': 0.7574107185144912, 'recall': 0.6186934019205768, 'f1_score': 0.6584805328585212}}, {'pollution_percentage': 40, 'metrics': {'accuracy': 0.9483907916045597, 'precision': 0.75993031185297, 'recall': 0.6194449859908737, 'f1_score': 0.659638235913909}}, {'pollution_percentage': 50, 'metrics': {'accuracy': 0.9490492724243115, 'precision': 0.7663509989070242, 'recall': 0.6243168221418588, 'f1_score': 0.6655536602424904}}]}\n",
      "Mean and New\n",
      "(246022, 155)\n",
      "(246022,)\n",
      "{'strategy': 'Mean and New', 'pollution_metrics': [{'pollution_percentage': 0, 'metrics': {'accuracy': 0.9478867709283898, 'precision': 0.7546709544012085, 'recall': 0.6166185651988428, 'f1_score': 0.6559323267381035}}, {'pollution_percentage': 10, 'metrics': {'accuracy': 0.9473624281056192, 'precision': 0.7504970292137794, 'recall': 0.604593975059071, 'f1_score': 0.6428935335095416}}, {'pollution_percentage': 20, 'metrics': {'accuracy': 0.946557622345195, 'precision': 0.7420214273503098, 'recall': 0.5929119826957392, 'f1_score': 0.6290574336959505}}, {'pollution_percentage': 30, 'metrics': {'accuracy': 0.9464356831048019, 'precision': 0.7411663752604072, 'recall': 0.5858341925500601, 'f1_score': 0.6208806207165153}}, {'pollution_percentage': 40, 'metrics': {'accuracy': 0.945151247077124, 'precision': 0.7226696329606019, 'recall': 0.5676917637176979, 'f1_score': 0.5971671464889463}}, {'pollution_percentage': 50, 'metrics': {'accuracy': 0.9454438994366992, 'precision': 0.726644148556662, 'recall': 0.5590448542993943, 'f1_score': 0.5860897365835478}}]}\n",
      "60%\n",
      "Mean and Mode\n",
      "(246022, 122)\n",
      "(246022,)\n",
      "{'strategy': 'Mean and Mode', 'pollution_metrics': [{'pollution_percentage': 0, 'metrics': {'accuracy': 0.9478867709283898, 'precision': 0.7546709544012085, 'recall': 0.6166185651988428, 'f1_score': 0.6559323267381035}}, {'pollution_percentage': 10, 'metrics': {'accuracy': 0.9471226111133199, 'precision': 0.7481034869494845, 'recall': 0.6016618192935692, 'f1_score': 0.6394333111112875}}, {'pollution_percentage': 20, 'metrics': {'accuracy': 0.9463340658457937, 'precision': 0.739451215789609, 'recall': 0.5883753703712403, 'f1_score': 0.6235994123381893}}, {'pollution_percentage': 30, 'metrics': {'accuracy': 0.9460779926561951, 'precision': 0.7367427021630385, 'recall': 0.5796837122442435, 'f1_score': 0.6131629970219075}}, {'pollution_percentage': 40, 'metrics': {'accuracy': 0.9453991920854653, 'precision': 0.7262987528420298, 'recall': 0.5648071804645449, 'f1_score': 0.5937102484901947}}, {'pollution_percentage': 50, 'metrics': {'accuracy': 0.9452609899565518, 'precision': 0.723556337026499, 'recall': 0.5542141386790604, 'f1_score': 0.5792978366179279}}, {'pollution_percentage': 60, 'metrics': {'accuracy': 0.9449236209936842, 'precision': 0.7136258436005481, 'recall': 0.5428144332657425, 'f1_score': 0.562475375448607}}]}\n",
      "Median and New\n",
      "(246022, 155)\n",
      "(246022,)\n",
      "{'strategy': 'Median and New', 'pollution_metrics': [{'pollution_percentage': 0, 'metrics': {'accuracy': 0.9478867709283898, 'precision': 0.7546709544012085, 'recall': 0.6166185651988428, 'f1_score': 0.6559323267381035}}, {'pollution_percentage': 10, 'metrics': {'accuracy': 0.9471348026004331, 'precision': 0.7478843340940746, 'recall': 0.6038073246066298, 'f1_score': 0.6417009383994973}}, {'pollution_percentage': 20, 'metrics': {'accuracy': 0.9464844567357675, 'precision': 0.7410044199764731, 'recall': 0.5937148824623497, 'f1_score': 0.6298289366178418}}, {'pollution_percentage': 30, 'metrics': {'accuracy': 0.94633406526754, 'precision': 0.7396091075382082, 'recall': 0.5871480424672828, 'f1_score': 0.6222392122460632}}, {'pollution_percentage': 40, 'metrics': {'accuracy': 0.9454195121668741, 'precision': 0.7269332090930365, 'recall': 0.5680791109422442, 'f1_score': 0.5979707740597371}}, {'pollution_percentage': 50, 'metrics': {'accuracy': 0.9453504135806472, 'precision': 0.7250948117275271, 'recall': 0.5583642136527855, 'f1_score': 0.5850889518943369}}, {'pollution_percentage': 60, 'metrics': {'accuracy': 0.9449845932160222, 'precision': 0.7164075881953854, 'recall': 0.5475455895369019, 'f1_score': 0.5695478565105662}}]}\n",
      "Decision Tree\n",
      "(246022, 122)\n",
      "(246022,)\n",
      "{'strategy': 'Decision Tree', 'pollution_metrics': [{'pollution_percentage': 0, 'metrics': {'accuracy': 0.9478867709283898, 'precision': 0.7546709544012085, 'recall': 0.6166185651988428, 'f1_score': 0.6559323267381035}}, {'pollution_percentage': 10, 'metrics': {'accuracy': 0.9479070944793208, 'precision': 0.7551654540177452, 'recall': 0.6149461220688343, 'f1_score': 0.6543381497456673}}, {'pollution_percentage': 20, 'metrics': {'accuracy': 0.9479558718276312, 'precision': 0.7556609098624123, 'recall': 0.6155329827748407, 'f1_score': 0.6550158037170144}}, {'pollution_percentage': 30, 'metrics': {'accuracy': 0.9481631649428663, 'precision': 0.7574107185144912, 'recall': 0.6186934019205768, 'f1_score': 0.6584805328585212}}, {'pollution_percentage': 40, 'metrics': {'accuracy': 0.9483907916045597, 'precision': 0.75993031185297, 'recall': 0.6194449859908737, 'f1_score': 0.659638235913909}}, {'pollution_percentage': 50, 'metrics': {'accuracy': 0.9490492724243115, 'precision': 0.7663509989070242, 'recall': 0.6243168221418588, 'f1_score': 0.6655536602424904}}, {'pollution_percentage': 60, 'metrics': {'accuracy': 0.9501995754940757, 'precision': 0.7771810902100261, 'recall': 0.632604757170884, 'f1_score': 0.6755916774986506}}]}\n",
      "Mean and New\n",
      "(246022, 155)\n",
      "(246022,)\n",
      "{'strategy': 'Mean and New', 'pollution_metrics': [{'pollution_percentage': 0, 'metrics': {'accuracy': 0.9478867709283898, 'precision': 0.7546709544012085, 'recall': 0.6166185651988428, 'f1_score': 0.6559323267381035}}, {'pollution_percentage': 10, 'metrics': {'accuracy': 0.9473624281056192, 'precision': 0.7504970292137794, 'recall': 0.604593975059071, 'f1_score': 0.6428935335095416}}, {'pollution_percentage': 20, 'metrics': {'accuracy': 0.946557622345195, 'precision': 0.7420214273503098, 'recall': 0.5929119826957392, 'f1_score': 0.6290574336959505}}, {'pollution_percentage': 30, 'metrics': {'accuracy': 0.9464356831048019, 'precision': 0.7411663752604072, 'recall': 0.5858341925500601, 'f1_score': 0.6208806207165153}}, {'pollution_percentage': 40, 'metrics': {'accuracy': 0.945151247077124, 'precision': 0.7226696329606019, 'recall': 0.5676917637176979, 'f1_score': 0.5971671464889463}}, {'pollution_percentage': 50, 'metrics': {'accuracy': 0.9454438994366992, 'precision': 0.726644148556662, 'recall': 0.5590448542993943, 'f1_score': 0.5860897365835478}}, {'pollution_percentage': 60, 'metrics': {'accuracy': 0.9449520732215184, 'precision': 0.7152616314558589, 'recall': 0.5466166629995737, 'f1_score': 0.568145336830998}}]}\n",
      "70%\n",
      "Mean and Mode\n",
      "(246022, 122)\n",
      "(246022,)\n",
      "{'strategy': 'Mean and Mode', 'pollution_metrics': [{'pollution_percentage': 0, 'metrics': {'accuracy': 0.9478867709283898, 'precision': 0.7546709544012085, 'recall': 0.6166185651988428, 'f1_score': 0.6559323267381035}}, {'pollution_percentage': 10, 'metrics': {'accuracy': 0.9471226111133199, 'precision': 0.7481034869494845, 'recall': 0.6016618192935692, 'f1_score': 0.6394333111112875}}, {'pollution_percentage': 20, 'metrics': {'accuracy': 0.9463340658457937, 'precision': 0.739451215789609, 'recall': 0.5883753703712403, 'f1_score': 0.6235994123381893}}, {'pollution_percentage': 30, 'metrics': {'accuracy': 0.9460779926561951, 'precision': 0.7367427021630385, 'recall': 0.5796837122442435, 'f1_score': 0.6131629970219075}}, {'pollution_percentage': 40, 'metrics': {'accuracy': 0.9453991920854653, 'precision': 0.7262987528420298, 'recall': 0.5648071804645449, 'f1_score': 0.5937102484901947}}, {'pollution_percentage': 50, 'metrics': {'accuracy': 0.9452609899565518, 'precision': 0.723556337026499, 'recall': 0.5542141386790604, 'f1_score': 0.5792978366179279}}, {'pollution_percentage': 60, 'metrics': {'accuracy': 0.9449236209936842, 'precision': 0.7136258436005481, 'recall': 0.5428144332657425, 'f1_score': 0.562475375448607}}, {'pollution_percentage': 70, 'metrics': {'accuracy': 0.9447488425034548, 'precision': 0.7038125895987812, 'recall': 0.5304136567467383, 'f1_score': 0.5428809173752274}}]}\n",
      "Median and New\n",
      "(246022, 155)\n",
      "(246022,)\n",
      "{'strategy': 'Median and New', 'pollution_metrics': [{'pollution_percentage': 0, 'metrics': {'accuracy': 0.9478867709283898, 'precision': 0.7546709544012085, 'recall': 0.6166185651988428, 'f1_score': 0.6559323267381035}}, {'pollution_percentage': 10, 'metrics': {'accuracy': 0.9471348026004331, 'precision': 0.7478843340940746, 'recall': 0.6038073246066298, 'f1_score': 0.6417009383994973}}, {'pollution_percentage': 20, 'metrics': {'accuracy': 0.9464844567357675, 'precision': 0.7410044199764731, 'recall': 0.5937148824623497, 'f1_score': 0.6298289366178418}}, {'pollution_percentage': 30, 'metrics': {'accuracy': 0.94633406526754, 'precision': 0.7396091075382082, 'recall': 0.5871480424672828, 'f1_score': 0.6222392122460632}}, {'pollution_percentage': 40, 'metrics': {'accuracy': 0.9454195121668741, 'precision': 0.7269332090930365, 'recall': 0.5680791109422442, 'f1_score': 0.5979707740597371}}, {'pollution_percentage': 50, 'metrics': {'accuracy': 0.9453504135806472, 'precision': 0.7250948117275271, 'recall': 0.5583642136527855, 'f1_score': 0.5850889518943369}}, {'pollution_percentage': 60, 'metrics': {'accuracy': 0.9449845932160222, 'precision': 0.7164075881953854, 'recall': 0.5475455895369019, 'f1_score': 0.5695478565105662}}, {'pollution_percentage': 70, 'metrics': {'accuracy': 0.9449236252892828, 'precision': 0.7107082073078423, 'recall': 0.5335218143157137, 'f1_score': 0.5480037319665597}}]}\n",
      "Decision Tree\n",
      "(246022, 122)\n",
      "(246022,)\n",
      "{'strategy': 'Decision Tree', 'pollution_metrics': [{'pollution_percentage': 0, 'metrics': {'accuracy': 0.9478867709283898, 'precision': 0.7546709544012085, 'recall': 0.6166185651988428, 'f1_score': 0.6559323267381035}}, {'pollution_percentage': 10, 'metrics': {'accuracy': 0.9479070944793208, 'precision': 0.7551654540177452, 'recall': 0.6149461220688343, 'f1_score': 0.6543381497456673}}, {'pollution_percentage': 20, 'metrics': {'accuracy': 0.9479558718276312, 'precision': 0.7556609098624123, 'recall': 0.6155329827748407, 'f1_score': 0.6550158037170144}}, {'pollution_percentage': 30, 'metrics': {'accuracy': 0.9481631649428663, 'precision': 0.7574107185144912, 'recall': 0.6186934019205768, 'f1_score': 0.6584805328585212}}, {'pollution_percentage': 40, 'metrics': {'accuracy': 0.9483907916045597, 'precision': 0.75993031185297, 'recall': 0.6194449859908737, 'f1_score': 0.659638235913909}}, {'pollution_percentage': 50, 'metrics': {'accuracy': 0.9490492724243115, 'precision': 0.7663509989070242, 'recall': 0.6243168221418588, 'f1_score': 0.6655536602424904}}, {'pollution_percentage': 60, 'metrics': {'accuracy': 0.9501995754940757, 'precision': 0.7771810902100261, 'recall': 0.632604757170884, 'f1_score': 0.6755916774986506}}, {'pollution_percentage': 70, 'metrics': {'accuracy': 0.9536301568568397, 'precision': 0.8069079685358697, 'recall': 0.6567564880285813, 'f1_score': 0.704066257645185}}]}\n",
      "Mean and New\n",
      "(246022, 155)\n",
      "(246022,)\n",
      "{'strategy': 'Mean and New', 'pollution_metrics': [{'pollution_percentage': 0, 'metrics': {'accuracy': 0.9478867709283898, 'precision': 0.7546709544012085, 'recall': 0.6166185651988428, 'f1_score': 0.6559323267381035}}, {'pollution_percentage': 10, 'metrics': {'accuracy': 0.9473624281056192, 'precision': 0.7504970292137794, 'recall': 0.604593975059071, 'f1_score': 0.6428935335095416}}, {'pollution_percentage': 20, 'metrics': {'accuracy': 0.946557622345195, 'precision': 0.7420214273503098, 'recall': 0.5929119826957392, 'f1_score': 0.6290574336959505}}, {'pollution_percentage': 30, 'metrics': {'accuracy': 0.9464356831048019, 'precision': 0.7411663752604072, 'recall': 0.5858341925500601, 'f1_score': 0.6208806207165153}}, {'pollution_percentage': 40, 'metrics': {'accuracy': 0.945151247077124, 'precision': 0.7226696329606019, 'recall': 0.5676917637176979, 'f1_score': 0.5971671464889463}}, {'pollution_percentage': 50, 'metrics': {'accuracy': 0.9454438994366992, 'precision': 0.726644148556662, 'recall': 0.5590448542993943, 'f1_score': 0.5860897365835478}}, {'pollution_percentage': 60, 'metrics': {'accuracy': 0.9449520732215184, 'precision': 0.7152616314558589, 'recall': 0.5466166629995737, 'f1_score': 0.568145336830998}}, {'pollution_percentage': 70, 'metrics': {'accuracy': 0.9448220061302983, 'precision': 0.7074319076532158, 'recall': 0.5335031370901194, 'f1_score': 0.5479205422107117}}]}\n",
      "80%\n",
      "Mean and Mode\n",
      "(246022, 122)\n",
      "(246022,)\n",
      "{'strategy': 'Mean and Mode', 'pollution_metrics': [{'pollution_percentage': 0, 'metrics': {'accuracy': 0.9478867709283898, 'precision': 0.7546709544012085, 'recall': 0.6166185651988428, 'f1_score': 0.6559323267381035}}, {'pollution_percentage': 10, 'metrics': {'accuracy': 0.9471226111133199, 'precision': 0.7481034869494845, 'recall': 0.6016618192935692, 'f1_score': 0.6394333111112875}}, {'pollution_percentage': 20, 'metrics': {'accuracy': 0.9463340658457937, 'precision': 0.739451215789609, 'recall': 0.5883753703712403, 'f1_score': 0.6235994123381893}}, {'pollution_percentage': 30, 'metrics': {'accuracy': 0.9460779926561951, 'precision': 0.7367427021630385, 'recall': 0.5796837122442435, 'f1_score': 0.6131629970219075}}, {'pollution_percentage': 40, 'metrics': {'accuracy': 0.9453991920854653, 'precision': 0.7262987528420298, 'recall': 0.5648071804645449, 'f1_score': 0.5937102484901947}}, {'pollution_percentage': 50, 'metrics': {'accuracy': 0.9452609899565518, 'precision': 0.723556337026499, 'recall': 0.5542141386790604, 'f1_score': 0.5792978366179279}}, {'pollution_percentage': 60, 'metrics': {'accuracy': 0.9449236209936842, 'precision': 0.7136258436005481, 'recall': 0.5428144332657425, 'f1_score': 0.562475375448607}}, {'pollution_percentage': 70, 'metrics': {'accuracy': 0.9447488425034548, 'precision': 0.7038125895987812, 'recall': 0.5304136567467383, 'f1_score': 0.5428809173752274}}, {'pollution_percentage': 80, 'metrics': {'accuracy': 0.9449033009948831, 'precision': 0.700356787395476, 'recall': 0.5202909974346571, 'f1_score': 0.5255789333997007}}]}\n",
      "Median and New\n",
      "(246022, 155)\n",
      "(246022,)\n",
      "{'strategy': 'Median and New', 'pollution_metrics': [{'pollution_percentage': 0, 'metrics': {'accuracy': 0.9478867709283898, 'precision': 0.7546709544012085, 'recall': 0.6166185651988428, 'f1_score': 0.6559323267381035}}, {'pollution_percentage': 10, 'metrics': {'accuracy': 0.9471348026004331, 'precision': 0.7478843340940746, 'recall': 0.6038073246066298, 'f1_score': 0.6417009383994973}}, {'pollution_percentage': 20, 'metrics': {'accuracy': 0.9464844567357675, 'precision': 0.7410044199764731, 'recall': 0.5937148824623497, 'f1_score': 0.6298289366178418}}, {'pollution_percentage': 30, 'metrics': {'accuracy': 0.94633406526754, 'precision': 0.7396091075382082, 'recall': 0.5871480424672828, 'f1_score': 0.6222392122460632}}, {'pollution_percentage': 40, 'metrics': {'accuracy': 0.9454195121668741, 'precision': 0.7269332090930365, 'recall': 0.5680791109422442, 'f1_score': 0.5979707740597371}}, {'pollution_percentage': 50, 'metrics': {'accuracy': 0.9453504135806472, 'precision': 0.7250948117275271, 'recall': 0.5583642136527855, 'f1_score': 0.5850889518943369}}, {'pollution_percentage': 60, 'metrics': {'accuracy': 0.9449845932160222, 'precision': 0.7164075881953854, 'recall': 0.5475455895369019, 'f1_score': 0.5695478565105662}}, {'pollution_percentage': 70, 'metrics': {'accuracy': 0.9449236252892828, 'precision': 0.7107082073078423, 'recall': 0.5335218143157137, 'f1_score': 0.5480037319665597}}, {'pollution_percentage': 80, 'metrics': {'accuracy': 0.9450374356049498, 'precision': 0.7078940434928715, 'recall': 0.5221503296750651, 'f1_score': 0.5288790302301936}}]}\n",
      "Decision Tree\n",
      "(246022, 122)\n",
      "(246022,)\n",
      "{'strategy': 'Decision Tree', 'pollution_metrics': [{'pollution_percentage': 0, 'metrics': {'accuracy': 0.9478867709283898, 'precision': 0.7546709544012085, 'recall': 0.6166185651988428, 'f1_score': 0.6559323267381035}}, {'pollution_percentage': 10, 'metrics': {'accuracy': 0.9479070944793208, 'precision': 0.7551654540177452, 'recall': 0.6149461220688343, 'f1_score': 0.6543381497456673}}, {'pollution_percentage': 20, 'metrics': {'accuracy': 0.9479558718276312, 'precision': 0.7556609098624123, 'recall': 0.6155329827748407, 'f1_score': 0.6550158037170144}}, {'pollution_percentage': 30, 'metrics': {'accuracy': 0.9481631649428663, 'precision': 0.7574107185144912, 'recall': 0.6186934019205768, 'f1_score': 0.6584805328585212}}, {'pollution_percentage': 40, 'metrics': {'accuracy': 0.9483907916045597, 'precision': 0.75993031185297, 'recall': 0.6194449859908737, 'f1_score': 0.659638235913909}}, {'pollution_percentage': 50, 'metrics': {'accuracy': 0.9490492724243115, 'precision': 0.7663509989070242, 'recall': 0.6243168221418588, 'f1_score': 0.6655536602424904}}, {'pollution_percentage': 60, 'metrics': {'accuracy': 0.9501995754940757, 'precision': 0.7771810902100261, 'recall': 0.632604757170884, 'f1_score': 0.6755916774986506}}, {'pollution_percentage': 70, 'metrics': {'accuracy': 0.9536301568568397, 'precision': 0.8069079685358697, 'recall': 0.6567564880285813, 'f1_score': 0.704066257645185}}, {'pollution_percentage': 80, 'metrics': {'accuracy': 0.9624423812151953, 'precision': 0.8690192164983156, 'recall': 0.7191716236357564, 'f1_score': 0.7725121525416908}}]}\n",
      "Mean and New\n",
      "(246022, 155)\n",
      "(246022,)\n",
      "{'strategy': 'Mean and New', 'pollution_metrics': [{'pollution_percentage': 0, 'metrics': {'accuracy': 0.9478867709283898, 'precision': 0.7546709544012085, 'recall': 0.6166185651988428, 'f1_score': 0.6559323267381035}}, {'pollution_percentage': 10, 'metrics': {'accuracy': 0.9473624281056192, 'precision': 0.7504970292137794, 'recall': 0.604593975059071, 'f1_score': 0.6428935335095416}}, {'pollution_percentage': 20, 'metrics': {'accuracy': 0.946557622345195, 'precision': 0.7420214273503098, 'recall': 0.5929119826957392, 'f1_score': 0.6290574336959505}}, {'pollution_percentage': 30, 'metrics': {'accuracy': 0.9464356831048019, 'precision': 0.7411663752604072, 'recall': 0.5858341925500601, 'f1_score': 0.6208806207165153}}, {'pollution_percentage': 40, 'metrics': {'accuracy': 0.945151247077124, 'precision': 0.7226696329606019, 'recall': 0.5676917637176979, 'f1_score': 0.5971671464889463}}, {'pollution_percentage': 50, 'metrics': {'accuracy': 0.9454438994366992, 'precision': 0.726644148556662, 'recall': 0.5590448542993943, 'f1_score': 0.5860897365835478}}, {'pollution_percentage': 60, 'metrics': {'accuracy': 0.9449520732215184, 'precision': 0.7152616314558589, 'recall': 0.5466166629995737, 'f1_score': 0.568145336830998}}, {'pollution_percentage': 70, 'metrics': {'accuracy': 0.9448220061302983, 'precision': 0.7074319076532158, 'recall': 0.5335031370901194, 'f1_score': 0.5479205422107117}}, {'pollution_percentage': 80, 'metrics': {'accuracy': 0.9449398820648357, 'precision': 0.703851809257332, 'recall': 0.522344201141027, 'f1_score': 0.5292131928058786}}]}\n"
     ]
    }
   ],
   "execution_count": 30
  },
  {
   "metadata": {
    "ExecuteTime": {
     "end_time": "2024-08-18T12:15:14.571396Z",
     "start_time": "2024-08-18T12:15:14.567839Z"
    }
   },
   "cell_type": "code",
   "source": [
    "# Chemin du fichier JSON où les résultats seront enregistrés\n",
    "output_path = \"../../Results/Heart Disease/Completeness.json\"\n",
    "\n",
    "# Écrire les résultats dans un fichier JSON\n",
    "with open(output_path, 'w') as json_file:\n",
    "    json.dump(results_dict, json_file, indent=4)\n",
    "\n",
    "print(f\"Results saved to {output_path}\")"
   ],
   "id": "9aba5d4547f51ddb",
   "outputs": [
    {
     "name": "stdout",
     "output_type": "stream",
     "text": [
      "Results saved to ../../Results/Heart Disease/Completeness.json\n"
     ]
    }
   ],
   "execution_count": 31
  },
  {
   "metadata": {},
   "cell_type": "markdown",
   "source": "## Consistent Representation",
   "id": "3deabfaae5fcc339"
  },
  {
   "metadata": {
    "ExecuteTime": {
     "end_time": "2024-08-18T10:15:13.628133Z",
     "start_time": "2024-08-18T10:12:10.635095Z"
    }
   },
   "cell_type": "code",
   "source": [
    "missing_percentages = [0.0, 0.1, 0.2, 0.3, 0.4, 0.5, 0.6, 0.7, 0.8]\n",
    "heart_df_dict = read_csv_files_to_dict('../../Data/Classification/Indicators of Heart Disease', 'Consistent Representation', 'heart', missing_percentages)\n",
    "\n",
    "# Dictionnaire pour stocker les résultats\n",
    "results_dict = {\n",
    "    \"models\": [\n",
    "        {\n",
    "            \"model\": \"XGBoost\",\n",
    "            \"pollution_metrics\": []\n",
    "        }\n",
    "    ]\n",
    "}\n",
    "\n",
    "# Boucle sur les DataFrames pour chaque pourcentage de pollution\n",
    "for key, heart_df in heart_df_dict.items():\n",
    "    heart_df['HadHeartAttack'] = heart_df['HadHeartAttack'].replace({'Yes': True, 'No': False}).astype(bool)\n",
    "    heart_df = pd.get_dummies(heart_df, drop_first=True)\n",
    "    X = heart_df.drop('HadHeartAttack', axis=1)\n",
    "    y = heart_df['HadHeartAttack']\n",
    "\n",
    "    results = train_and_evaluate(X, y)\n",
    "\n",
    "    # Extraire le pourcentage de pollution à partir de la clé\n",
    "    pollution_percentage = int(key.replace('%', ''))\n",
    "\n",
    "    # Ajouter les résultats au dictionnaire\n",
    "    results_dict[\"models\"][0][\"pollution_metrics\"].append({\n",
    "        \"pollution_percentage\": pollution_percentage,\n",
    "        \"metrics\": results\n",
    "    })"
   ],
   "id": "df2c3a19255ce578",
   "outputs": [
    {
     "name": "stderr",
     "output_type": "stream",
     "text": [
      "/var/folders/qc/m20c7_k95j52q7xcg6lwyd7w0000gn/T/ipykernel_1340/1267529487.py:16: FutureWarning: Downcasting behavior in `replace` is deprecated and will be removed in a future version. To retain the old behavior, explicitly call `result.infer_objects(copy=False)`. To opt-in to the future behavior, set `pd.set_option('future.no_silent_downcasting', True)`\n",
      "  heart_df['HadHeartAttack'] = heart_df['HadHeartAttack'].replace({'Yes': True, 'No': False}).astype(bool)\n",
      "/var/folders/qc/m20c7_k95j52q7xcg6lwyd7w0000gn/T/ipykernel_1340/1267529487.py:16: FutureWarning: Downcasting behavior in `replace` is deprecated and will be removed in a future version. To retain the old behavior, explicitly call `result.infer_objects(copy=False)`. To opt-in to the future behavior, set `pd.set_option('future.no_silent_downcasting', True)`\n",
      "  heart_df['HadHeartAttack'] = heart_df['HadHeartAttack'].replace({'Yes': True, 'No': False}).astype(bool)\n",
      "/var/folders/qc/m20c7_k95j52q7xcg6lwyd7w0000gn/T/ipykernel_1340/1267529487.py:16: FutureWarning: Downcasting behavior in `replace` is deprecated and will be removed in a future version. To retain the old behavior, explicitly call `result.infer_objects(copy=False)`. To opt-in to the future behavior, set `pd.set_option('future.no_silent_downcasting', True)`\n",
      "  heart_df['HadHeartAttack'] = heart_df['HadHeartAttack'].replace({'Yes': True, 'No': False}).astype(bool)\n",
      "/var/folders/qc/m20c7_k95j52q7xcg6lwyd7w0000gn/T/ipykernel_1340/1267529487.py:16: FutureWarning: Downcasting behavior in `replace` is deprecated and will be removed in a future version. To retain the old behavior, explicitly call `result.infer_objects(copy=False)`. To opt-in to the future behavior, set `pd.set_option('future.no_silent_downcasting', True)`\n",
      "  heart_df['HadHeartAttack'] = heart_df['HadHeartAttack'].replace({'Yes': True, 'No': False}).astype(bool)\n",
      "/var/folders/qc/m20c7_k95j52q7xcg6lwyd7w0000gn/T/ipykernel_1340/1267529487.py:16: FutureWarning: Downcasting behavior in `replace` is deprecated and will be removed in a future version. To retain the old behavior, explicitly call `result.infer_objects(copy=False)`. To opt-in to the future behavior, set `pd.set_option('future.no_silent_downcasting', True)`\n",
      "  heart_df['HadHeartAttack'] = heart_df['HadHeartAttack'].replace({'Yes': True, 'No': False}).astype(bool)\n",
      "/var/folders/qc/m20c7_k95j52q7xcg6lwyd7w0000gn/T/ipykernel_1340/1267529487.py:16: FutureWarning: Downcasting behavior in `replace` is deprecated and will be removed in a future version. To retain the old behavior, explicitly call `result.infer_objects(copy=False)`. To opt-in to the future behavior, set `pd.set_option('future.no_silent_downcasting', True)`\n",
      "  heart_df['HadHeartAttack'] = heart_df['HadHeartAttack'].replace({'Yes': True, 'No': False}).astype(bool)\n",
      "/var/folders/qc/m20c7_k95j52q7xcg6lwyd7w0000gn/T/ipykernel_1340/1267529487.py:16: FutureWarning: Downcasting behavior in `replace` is deprecated and will be removed in a future version. To retain the old behavior, explicitly call `result.infer_objects(copy=False)`. To opt-in to the future behavior, set `pd.set_option('future.no_silent_downcasting', True)`\n",
      "  heart_df['HadHeartAttack'] = heart_df['HadHeartAttack'].replace({'Yes': True, 'No': False}).astype(bool)\n",
      "/var/folders/qc/m20c7_k95j52q7xcg6lwyd7w0000gn/T/ipykernel_1340/1267529487.py:16: FutureWarning: Downcasting behavior in `replace` is deprecated and will be removed in a future version. To retain the old behavior, explicitly call `result.infer_objects(copy=False)`. To opt-in to the future behavior, set `pd.set_option('future.no_silent_downcasting', True)`\n",
      "  heart_df['HadHeartAttack'] = heart_df['HadHeartAttack'].replace({'Yes': True, 'No': False}).astype(bool)\n",
      "/var/folders/qc/m20c7_k95j52q7xcg6lwyd7w0000gn/T/ipykernel_1340/1267529487.py:16: FutureWarning: Downcasting behavior in `replace` is deprecated and will be removed in a future version. To retain the old behavior, explicitly call `result.infer_objects(copy=False)`. To opt-in to the future behavior, set `pd.set_option('future.no_silent_downcasting', True)`\n",
      "  heart_df['HadHeartAttack'] = heart_df['HadHeartAttack'].replace({'Yes': True, 'No': False}).astype(bool)\n"
     ]
    }
   ],
   "execution_count": 10
  },
  {
   "metadata": {
    "ExecuteTime": {
     "end_time": "2024-08-18T10:15:50.088579Z",
     "start_time": "2024-08-18T10:15:50.085017Z"
    }
   },
   "cell_type": "code",
   "source": [
    "# Chemin du fichier JSON où les résultats seront enregistrés\n",
    "output_path = \"../../Results/Heart Disease/Consistent Representation.json\"\n",
    "\n",
    "# Écrire les résultats dans un fichier JSON\n",
    "with open(output_path, 'w') as json_file:\n",
    "    json.dump(results_dict, json_file, indent=4)\n",
    "\n",
    "print(f\"Results saved to {output_path}\")"
   ],
   "id": "b8a89e5279cf9a12",
   "outputs": [
    {
     "name": "stdout",
     "output_type": "stream",
     "text": [
      "Results saved to ../../Results/Heart Disease/Consistent Representation.json\n"
     ]
    }
   ],
   "execution_count": 11
  },
  {
   "metadata": {},
   "cell_type": "markdown",
   "source": "## Feature Accuracy",
   "id": "de07e28889fc4133"
  },
  {
   "metadata": {
    "ExecuteTime": {
     "end_time": "2024-08-18T10:07:13.915318Z",
     "start_time": "2024-08-18T10:05:59.231910Z"
    }
   },
   "cell_type": "code",
   "source": [
    "missing_percentages = [0.0, 0.1, 0.2, 0.3, 0.4, 0.5, 0.6, 0.7, 0.8]\n",
    "heart_df_dict = read_csv_files_to_dict('../../Data/Classification/Indicators of Heart Disease', 'Feature Accuracy', 'heart', missing_percentages)\n",
    "\n",
    "# Dictionnaire pour stocker les résultats\n",
    "results_dict = {\n",
    "    \"models\": [\n",
    "        {\n",
    "            \"model\": \"XGBoost\",\n",
    "            \"pollution_metrics\": []\n",
    "        }\n",
    "    ]\n",
    "}\n",
    "\n",
    "# Boucle sur les DataFrames pour chaque pourcentage de pollution\n",
    "for key, heart_df in heart_df_dict.items():\n",
    "    heart_df['HadHeartAttack'] = heart_df['HadHeartAttack'].replace({'Yes': True, 'No': False}).astype(bool)\n",
    "    heart_df = pd.get_dummies(heart_df, drop_first=True)\n",
    "    X = heart_df.drop('HadHeartAttack', axis=1)\n",
    "    y = heart_df['HadHeartAttack']\n",
    "\n",
    "    results = train_and_evaluate(X, y)\n",
    "\n",
    "    # Extraire le pourcentage de pollution à partir de la clé\n",
    "    pollution_percentage = int(key.replace('%', ''))\n",
    "\n",
    "    # Ajouter les résultats au dictionnaire\n",
    "    results_dict[\"models\"][0][\"pollution_metrics\"].append({\n",
    "        \"pollution_percentage\": pollution_percentage,\n",
    "        \"metrics\": results\n",
    "    })"
   ],
   "id": "4cfb8345ee6ca836",
   "outputs": [
    {
     "name": "stderr",
     "output_type": "stream",
     "text": [
      "/var/folders/qc/m20c7_k95j52q7xcg6lwyd7w0000gn/T/ipykernel_1340/2832814473.py:13: FutureWarning: Downcasting behavior in `replace` is deprecated and will be removed in a future version. To retain the old behavior, explicitly call `result.infer_objects(copy=False)`. To opt-in to the future behavior, set `pd.set_option('future.no_silent_downcasting', True)`\n",
      "  heart_df['HadHeartAttack'] = heart_df['HadHeartAttack'].replace({'Yes': True, 'No': False}).astype(bool)\n",
      "/var/folders/qc/m20c7_k95j52q7xcg6lwyd7w0000gn/T/ipykernel_1340/2832814473.py:13: FutureWarning: Downcasting behavior in `replace` is deprecated and will be removed in a future version. To retain the old behavior, explicitly call `result.infer_objects(copy=False)`. To opt-in to the future behavior, set `pd.set_option('future.no_silent_downcasting', True)`\n",
      "  heart_df['HadHeartAttack'] = heart_df['HadHeartAttack'].replace({'Yes': True, 'No': False}).astype(bool)\n",
      "/var/folders/qc/m20c7_k95j52q7xcg6lwyd7w0000gn/T/ipykernel_1340/2832814473.py:13: FutureWarning: Downcasting behavior in `replace` is deprecated and will be removed in a future version. To retain the old behavior, explicitly call `result.infer_objects(copy=False)`. To opt-in to the future behavior, set `pd.set_option('future.no_silent_downcasting', True)`\n",
      "  heart_df['HadHeartAttack'] = heart_df['HadHeartAttack'].replace({'Yes': True, 'No': False}).astype(bool)\n",
      "/var/folders/qc/m20c7_k95j52q7xcg6lwyd7w0000gn/T/ipykernel_1340/2832814473.py:13: FutureWarning: Downcasting behavior in `replace` is deprecated and will be removed in a future version. To retain the old behavior, explicitly call `result.infer_objects(copy=False)`. To opt-in to the future behavior, set `pd.set_option('future.no_silent_downcasting', True)`\n",
      "  heart_df['HadHeartAttack'] = heart_df['HadHeartAttack'].replace({'Yes': True, 'No': False}).astype(bool)\n",
      "/var/folders/qc/m20c7_k95j52q7xcg6lwyd7w0000gn/T/ipykernel_1340/2832814473.py:13: FutureWarning: Downcasting behavior in `replace` is deprecated and will be removed in a future version. To retain the old behavior, explicitly call `result.infer_objects(copy=False)`. To opt-in to the future behavior, set `pd.set_option('future.no_silent_downcasting', True)`\n",
      "  heart_df['HadHeartAttack'] = heart_df['HadHeartAttack'].replace({'Yes': True, 'No': False}).astype(bool)\n",
      "/var/folders/qc/m20c7_k95j52q7xcg6lwyd7w0000gn/T/ipykernel_1340/2832814473.py:13: FutureWarning: Downcasting behavior in `replace` is deprecated and will be removed in a future version. To retain the old behavior, explicitly call `result.infer_objects(copy=False)`. To opt-in to the future behavior, set `pd.set_option('future.no_silent_downcasting', True)`\n",
      "  heart_df['HadHeartAttack'] = heart_df['HadHeartAttack'].replace({'Yes': True, 'No': False}).astype(bool)\n",
      "/var/folders/qc/m20c7_k95j52q7xcg6lwyd7w0000gn/T/ipykernel_1340/2832814473.py:13: FutureWarning: Downcasting behavior in `replace` is deprecated and will be removed in a future version. To retain the old behavior, explicitly call `result.infer_objects(copy=False)`. To opt-in to the future behavior, set `pd.set_option('future.no_silent_downcasting', True)`\n",
      "  heart_df['HadHeartAttack'] = heart_df['HadHeartAttack'].replace({'Yes': True, 'No': False}).astype(bool)\n",
      "/var/folders/qc/m20c7_k95j52q7xcg6lwyd7w0000gn/T/ipykernel_1340/2832814473.py:13: FutureWarning: Downcasting behavior in `replace` is deprecated and will be removed in a future version. To retain the old behavior, explicitly call `result.infer_objects(copy=False)`. To opt-in to the future behavior, set `pd.set_option('future.no_silent_downcasting', True)`\n",
      "  heart_df['HadHeartAttack'] = heart_df['HadHeartAttack'].replace({'Yes': True, 'No': False}).astype(bool)\n",
      "/var/folders/qc/m20c7_k95j52q7xcg6lwyd7w0000gn/T/ipykernel_1340/2832814473.py:13: FutureWarning: Downcasting behavior in `replace` is deprecated and will be removed in a future version. To retain the old behavior, explicitly call `result.infer_objects(copy=False)`. To opt-in to the future behavior, set `pd.set_option('future.no_silent_downcasting', True)`\n",
      "  heart_df['HadHeartAttack'] = heart_df['HadHeartAttack'].replace({'Yes': True, 'No': False}).astype(bool)\n"
     ]
    }
   ],
   "execution_count": 8
  },
  {
   "metadata": {
    "ExecuteTime": {
     "end_time": "2024-08-18T10:07:19.527384Z",
     "start_time": "2024-08-18T10:07:19.524008Z"
    }
   },
   "cell_type": "code",
   "source": [
    "# Chemin du fichier JSON où les résultats seront enregistrés\n",
    "output_path = \"../../Results/Heart Disease/Feature Accuracy.json\"\n",
    "\n",
    "# Écrire les résultats dans un fichier JSON\n",
    "with open(output_path, 'w') as json_file:\n",
    "    json.dump(results_dict, json_file, indent=4)\n",
    "\n",
    "print(f\"Results saved to {output_path}\")"
   ],
   "id": "a6274e049af1a8bd",
   "outputs": [
    {
     "name": "stdout",
     "output_type": "stream",
     "text": [
      "Results saved to ../../Results/Heart Disease/Feature Accuracy.json\n"
     ]
    }
   ],
   "execution_count": 9
  },
  {
   "metadata": {},
   "cell_type": "markdown",
   "source": "## Target Accuracy",
   "id": "c745cfa4eaa11b86"
  },
  {
   "metadata": {
    "ExecuteTime": {
     "end_time": "2024-08-18T10:20:27.336259Z",
     "start_time": "2024-08-18T10:19:04.958761Z"
    }
   },
   "cell_type": "code",
   "source": [
    "missing_percentages = [0.0, 0.1, 0.2, 0.3, 0.4, 0.5, 0.6, 0.7, 0.8]\n",
    "heart_df_dict = read_csv_files_to_dict('../../Data/Classification/Indicators of Heart Disease', 'Target Accuracy', 'heart', missing_percentages)\n",
    "\n",
    "# Dictionnaire pour stocker les résultats\n",
    "results_dict = {\n",
    "    \"models\": [\n",
    "        {\n",
    "            \"model\": \"XGBoost\",\n",
    "            \"pollution_metrics\": []\n",
    "        }\n",
    "    ]\n",
    "}\n",
    "\n",
    "# Boucle sur les DataFrames pour chaque pourcentage de pollution\n",
    "for key, heart_df in heart_df_dict.items():\n",
    "    heart_df['HadHeartAttack'] = heart_df['HadHeartAttack'].replace({'Yes': True, 'No': False}).astype(bool)\n",
    "    heart_df = pd.get_dummies(heart_df, drop_first=True)\n",
    "    X = heart_df.drop('HadHeartAttack', axis=1)\n",
    "    y = heart_df['HadHeartAttack']\n",
    "\n",
    "    results = train_and_evaluate(X, y)\n",
    "\n",
    "    # Extraire le pourcentage de pollution à partir de la clé\n",
    "    pollution_percentage = int(key.replace('%', ''))\n",
    "\n",
    "    # Ajouter les résultats au dictionnaire\n",
    "    results_dict[\"models\"][0][\"pollution_metrics\"].append({\n",
    "        \"pollution_percentage\": pollution_percentage,\n",
    "        \"metrics\": results\n",
    "    })"
   ],
   "id": "adff4c826f53db56",
   "outputs": [
    {
     "name": "stderr",
     "output_type": "stream",
     "text": [
      "/var/folders/qc/m20c7_k95j52q7xcg6lwyd7w0000gn/T/ipykernel_1340/3761971015.py:16: FutureWarning: Downcasting behavior in `replace` is deprecated and will be removed in a future version. To retain the old behavior, explicitly call `result.infer_objects(copy=False)`. To opt-in to the future behavior, set `pd.set_option('future.no_silent_downcasting', True)`\n",
      "  heart_df['HadHeartAttack'] = heart_df['HadHeartAttack'].replace({'Yes': True, 'No': False}).astype(bool)\n",
      "/var/folders/qc/m20c7_k95j52q7xcg6lwyd7w0000gn/T/ipykernel_1340/3761971015.py:16: FutureWarning: Downcasting behavior in `replace` is deprecated and will be removed in a future version. To retain the old behavior, explicitly call `result.infer_objects(copy=False)`. To opt-in to the future behavior, set `pd.set_option('future.no_silent_downcasting', True)`\n",
      "  heart_df['HadHeartAttack'] = heart_df['HadHeartAttack'].replace({'Yes': True, 'No': False}).astype(bool)\n",
      "/var/folders/qc/m20c7_k95j52q7xcg6lwyd7w0000gn/T/ipykernel_1340/3761971015.py:16: FutureWarning: Downcasting behavior in `replace` is deprecated and will be removed in a future version. To retain the old behavior, explicitly call `result.infer_objects(copy=False)`. To opt-in to the future behavior, set `pd.set_option('future.no_silent_downcasting', True)`\n",
      "  heart_df['HadHeartAttack'] = heart_df['HadHeartAttack'].replace({'Yes': True, 'No': False}).astype(bool)\n",
      "/var/folders/qc/m20c7_k95j52q7xcg6lwyd7w0000gn/T/ipykernel_1340/3761971015.py:16: FutureWarning: Downcasting behavior in `replace` is deprecated and will be removed in a future version. To retain the old behavior, explicitly call `result.infer_objects(copy=False)`. To opt-in to the future behavior, set `pd.set_option('future.no_silent_downcasting', True)`\n",
      "  heart_df['HadHeartAttack'] = heart_df['HadHeartAttack'].replace({'Yes': True, 'No': False}).astype(bool)\n",
      "/var/folders/qc/m20c7_k95j52q7xcg6lwyd7w0000gn/T/ipykernel_1340/3761971015.py:16: FutureWarning: Downcasting behavior in `replace` is deprecated and will be removed in a future version. To retain the old behavior, explicitly call `result.infer_objects(copy=False)`. To opt-in to the future behavior, set `pd.set_option('future.no_silent_downcasting', True)`\n",
      "  heart_df['HadHeartAttack'] = heart_df['HadHeartAttack'].replace({'Yes': True, 'No': False}).astype(bool)\n",
      "/var/folders/qc/m20c7_k95j52q7xcg6lwyd7w0000gn/T/ipykernel_1340/3761971015.py:16: FutureWarning: Downcasting behavior in `replace` is deprecated and will be removed in a future version. To retain the old behavior, explicitly call `result.infer_objects(copy=False)`. To opt-in to the future behavior, set `pd.set_option('future.no_silent_downcasting', True)`\n",
      "  heart_df['HadHeartAttack'] = heart_df['HadHeartAttack'].replace({'Yes': True, 'No': False}).astype(bool)\n",
      "/var/folders/qc/m20c7_k95j52q7xcg6lwyd7w0000gn/T/ipykernel_1340/3761971015.py:16: FutureWarning: Downcasting behavior in `replace` is deprecated and will be removed in a future version. To retain the old behavior, explicitly call `result.infer_objects(copy=False)`. To opt-in to the future behavior, set `pd.set_option('future.no_silent_downcasting', True)`\n",
      "  heart_df['HadHeartAttack'] = heart_df['HadHeartAttack'].replace({'Yes': True, 'No': False}).astype(bool)\n",
      "/var/folders/qc/m20c7_k95j52q7xcg6lwyd7w0000gn/T/ipykernel_1340/3761971015.py:16: FutureWarning: Downcasting behavior in `replace` is deprecated and will be removed in a future version. To retain the old behavior, explicitly call `result.infer_objects(copy=False)`. To opt-in to the future behavior, set `pd.set_option('future.no_silent_downcasting', True)`\n",
      "  heart_df['HadHeartAttack'] = heart_df['HadHeartAttack'].replace({'Yes': True, 'No': False}).astype(bool)\n",
      "/var/folders/qc/m20c7_k95j52q7xcg6lwyd7w0000gn/T/ipykernel_1340/3761971015.py:16: FutureWarning: Downcasting behavior in `replace` is deprecated and will be removed in a future version. To retain the old behavior, explicitly call `result.infer_objects(copy=False)`. To opt-in to the future behavior, set `pd.set_option('future.no_silent_downcasting', True)`\n",
      "  heart_df['HadHeartAttack'] = heart_df['HadHeartAttack'].replace({'Yes': True, 'No': False}).astype(bool)\n"
     ]
    }
   ],
   "execution_count": 12
  },
  {
   "metadata": {
    "ExecuteTime": {
     "end_time": "2024-08-18T10:20:40.396232Z",
     "start_time": "2024-08-18T10:20:40.393370Z"
    }
   },
   "cell_type": "code",
   "source": [
    "# Chemin du fichier JSON où les résultats seront enregistrés\n",
    "output_path = \"../../Results/Heart Disease/Target Accuracy.json\"\n",
    "\n",
    "# Écrire les résultats dans un fichier JSON\n",
    "with open(output_path, 'w') as json_file:\n",
    "    json.dump(results_dict, json_file, indent=4)\n",
    "\n",
    "print(f\"Results saved to {output_path}\")"
   ],
   "id": "4933e0215006c383",
   "outputs": [
    {
     "name": "stdout",
     "output_type": "stream",
     "text": [
      "Results saved to ../../Results/Heart Disease/Target Accuracy.json\n"
     ]
    }
   ],
   "execution_count": 13
  },
  {
   "metadata": {},
   "cell_type": "markdown",
   "source": "## Target Class Balance",
   "id": "9d68cde227faef27"
  },
  {
   "metadata": {
    "ExecuteTime": {
     "end_time": "2024-08-18T10:26:51.067698Z",
     "start_time": "2024-08-18T10:25:28.039061Z"
    }
   },
   "cell_type": "code",
   "source": [
    "balance = [0.1, 0.2, 0.3, 0.4, 0.5, 0.6, 0.7, 0.8, 0.9]\n",
    "heart_df_dict = read_csv_files_to_dict('../../Data/Classification/Indicators of Heart Disease', 'Target Class Balance', 'heart', balance)\n",
    "\n",
    "# Dictionnaire pour stocker les résultats\n",
    "results_dict = {\n",
    "    \"models\": [\n",
    "        {\n",
    "            \"model\": \"XGBoost\",\n",
    "            \"pollution_metrics\": []\n",
    "        }\n",
    "    ]\n",
    "}\n",
    "\n",
    "# Boucle sur les DataFrames pour chaque pourcentage de pollution\n",
    "for key, heart_df in heart_df_dict.items():\n",
    "    heart_df['HadHeartAttack'] = heart_df['HadHeartAttack'].replace({'Yes': True, 'No': False}).astype(bool)\n",
    "    heart_df = pd.get_dummies(heart_df, drop_first=True)\n",
    "    X = heart_df.drop('HadHeartAttack', axis=1)\n",
    "    y = heart_df['HadHeartAttack']\n",
    "\n",
    "    results = train_and_evaluate(X, y)\n",
    "\n",
    "    # Extraire le pourcentage de pollution à partir de la clé\n",
    "    pollution_percentage = int(key.replace('%', ''))\n",
    "\n",
    "    # Ajouter les résultats au dictionnaire\n",
    "    results_dict[\"models\"][0][\"pollution_metrics\"].append({\n",
    "        \"pollution_percentage\": pollution_percentage,\n",
    "        \"metrics\": results\n",
    "    })"
   ],
   "id": "efbc60aac3b146d0",
   "outputs": [
    {
     "name": "stderr",
     "output_type": "stream",
     "text": [
      "/var/folders/qc/m20c7_k95j52q7xcg6lwyd7w0000gn/T/ipykernel_1340/1811698695.py:16: FutureWarning: Downcasting behavior in `replace` is deprecated and will be removed in a future version. To retain the old behavior, explicitly call `result.infer_objects(copy=False)`. To opt-in to the future behavior, set `pd.set_option('future.no_silent_downcasting', True)`\n",
      "  heart_df['HadHeartAttack'] = heart_df['HadHeartAttack'].replace({'Yes': True, 'No': False}).astype(bool)\n",
      "/var/folders/qc/m20c7_k95j52q7xcg6lwyd7w0000gn/T/ipykernel_1340/1811698695.py:16: FutureWarning: Downcasting behavior in `replace` is deprecated and will be removed in a future version. To retain the old behavior, explicitly call `result.infer_objects(copy=False)`. To opt-in to the future behavior, set `pd.set_option('future.no_silent_downcasting', True)`\n",
      "  heart_df['HadHeartAttack'] = heart_df['HadHeartAttack'].replace({'Yes': True, 'No': False}).astype(bool)\n",
      "/var/folders/qc/m20c7_k95j52q7xcg6lwyd7w0000gn/T/ipykernel_1340/1811698695.py:16: FutureWarning: Downcasting behavior in `replace` is deprecated and will be removed in a future version. To retain the old behavior, explicitly call `result.infer_objects(copy=False)`. To opt-in to the future behavior, set `pd.set_option('future.no_silent_downcasting', True)`\n",
      "  heart_df['HadHeartAttack'] = heart_df['HadHeartAttack'].replace({'Yes': True, 'No': False}).astype(bool)\n",
      "/var/folders/qc/m20c7_k95j52q7xcg6lwyd7w0000gn/T/ipykernel_1340/1811698695.py:16: FutureWarning: Downcasting behavior in `replace` is deprecated and will be removed in a future version. To retain the old behavior, explicitly call `result.infer_objects(copy=False)`. To opt-in to the future behavior, set `pd.set_option('future.no_silent_downcasting', True)`\n",
      "  heart_df['HadHeartAttack'] = heart_df['HadHeartAttack'].replace({'Yes': True, 'No': False}).astype(bool)\n",
      "/var/folders/qc/m20c7_k95j52q7xcg6lwyd7w0000gn/T/ipykernel_1340/1811698695.py:16: FutureWarning: Downcasting behavior in `replace` is deprecated and will be removed in a future version. To retain the old behavior, explicitly call `result.infer_objects(copy=False)`. To opt-in to the future behavior, set `pd.set_option('future.no_silent_downcasting', True)`\n",
      "  heart_df['HadHeartAttack'] = heart_df['HadHeartAttack'].replace({'Yes': True, 'No': False}).astype(bool)\n",
      "/var/folders/qc/m20c7_k95j52q7xcg6lwyd7w0000gn/T/ipykernel_1340/1811698695.py:16: FutureWarning: Downcasting behavior in `replace` is deprecated and will be removed in a future version. To retain the old behavior, explicitly call `result.infer_objects(copy=False)`. To opt-in to the future behavior, set `pd.set_option('future.no_silent_downcasting', True)`\n",
      "  heart_df['HadHeartAttack'] = heart_df['HadHeartAttack'].replace({'Yes': True, 'No': False}).astype(bool)\n",
      "/var/folders/qc/m20c7_k95j52q7xcg6lwyd7w0000gn/T/ipykernel_1340/1811698695.py:16: FutureWarning: Downcasting behavior in `replace` is deprecated and will be removed in a future version. To retain the old behavior, explicitly call `result.infer_objects(copy=False)`. To opt-in to the future behavior, set `pd.set_option('future.no_silent_downcasting', True)`\n",
      "  heart_df['HadHeartAttack'] = heart_df['HadHeartAttack'].replace({'Yes': True, 'No': False}).astype(bool)\n",
      "/var/folders/qc/m20c7_k95j52q7xcg6lwyd7w0000gn/T/ipykernel_1340/1811698695.py:16: FutureWarning: Downcasting behavior in `replace` is deprecated and will be removed in a future version. To retain the old behavior, explicitly call `result.infer_objects(copy=False)`. To opt-in to the future behavior, set `pd.set_option('future.no_silent_downcasting', True)`\n",
      "  heart_df['HadHeartAttack'] = heart_df['HadHeartAttack'].replace({'Yes': True, 'No': False}).astype(bool)\n",
      "/var/folders/qc/m20c7_k95j52q7xcg6lwyd7w0000gn/T/ipykernel_1340/1811698695.py:16: FutureWarning: Downcasting behavior in `replace` is deprecated and will be removed in a future version. To retain the old behavior, explicitly call `result.infer_objects(copy=False)`. To opt-in to the future behavior, set `pd.set_option('future.no_silent_downcasting', True)`\n",
      "  heart_df['HadHeartAttack'] = heart_df['HadHeartAttack'].replace({'Yes': True, 'No': False}).astype(bool)\n"
     ]
    }
   ],
   "execution_count": 15
  },
  {
   "metadata": {
    "ExecuteTime": {
     "end_time": "2024-08-18T10:27:01.006324Z",
     "start_time": "2024-08-18T10:27:01.003583Z"
    }
   },
   "cell_type": "code",
   "source": [
    "# Chemin du fichier JSON où les résultats seront enregistrés\n",
    "output_path = \"../../Results/Heart Disease/Target Class Balance.json\"\n",
    "\n",
    "# Écrire les résultats dans un fichier JSON\n",
    "with open(output_path, 'w') as json_file:\n",
    "    json.dump(results_dict, json_file, indent=4)\n",
    "\n",
    "print(f\"Results saved to {output_path}\")"
   ],
   "id": "c15ff69661f582be",
   "outputs": [
    {
     "name": "stdout",
     "output_type": "stream",
     "text": [
      "Results saved to ../../Results/Heart Disease/Target Class Balance.json\n"
     ]
    }
   ],
   "execution_count": 16
  },
  {
   "metadata": {},
   "cell_type": "markdown",
   "source": "## Unicity",
   "id": "faae47929601a9d3"
  },
  {
   "metadata": {
    "ExecuteTime": {
     "end_time": "2024-08-18T10:38:19.084203Z",
     "start_time": "2024-08-18T10:36:33.674695Z"
    }
   },
   "cell_type": "code",
   "source": [
    "pollution_percentage = [0, 0.1, 0.2, 0.3, 0.4, 0.5, 0.6, 0.7, 0.8]\n",
    "heart_df_dict = read_csv_files_to_dict('../../Data/Classification/Indicators of Heart Disease', 'Unicity', 'heart', pollution_percentage)\n",
    "\n",
    "# Dictionnaire pour stocker les résultats\n",
    "results_dict = {\n",
    "    \"models\": [\n",
    "        {\n",
    "            \"model\": \"XGBoost\",\n",
    "            \"pollution_metrics\": []\n",
    "        }\n",
    "    ]\n",
    "}\n",
    "\n",
    "# Boucle sur les DataFrames pour chaque pourcentage de pollution\n",
    "for key, heart_df in heart_df_dict.items():\n",
    "    heart_df['HadHeartAttack'] = heart_df['HadHeartAttack'].replace({'Yes': True, 'No': False}).astype(bool)\n",
    "    heart_df = pd.get_dummies(heart_df, drop_first=True)\n",
    "    X = heart_df.drop('HadHeartAttack', axis=1)\n",
    "    y = heart_df['HadHeartAttack']\n",
    "\n",
    "    results = train_and_evaluate(X, y)\n",
    "\n",
    "    # Extraire le pourcentage de pollution à partir de la clé\n",
    "    pollution_percentage = int(key.replace('%', ''))\n",
    "\n",
    "    # Ajouter les résultats au dictionnaire\n",
    "    results_dict[\"models\"][0][\"pollution_metrics\"].append({\n",
    "        \"pollution_percentage\": pollution_percentage,\n",
    "        \"metrics\": results\n",
    "    })"
   ],
   "id": "901106e8b46e1c9b",
   "outputs": [
    {
     "name": "stderr",
     "output_type": "stream",
     "text": [
      "/var/folders/qc/m20c7_k95j52q7xcg6lwyd7w0000gn/T/ipykernel_1340/1632035180.py:16: FutureWarning: Downcasting behavior in `replace` is deprecated and will be removed in a future version. To retain the old behavior, explicitly call `result.infer_objects(copy=False)`. To opt-in to the future behavior, set `pd.set_option('future.no_silent_downcasting', True)`\n",
      "  heart_df['HadHeartAttack'] = heart_df['HadHeartAttack'].replace({'Yes': True, 'No': False}).astype(bool)\n",
      "/var/folders/qc/m20c7_k95j52q7xcg6lwyd7w0000gn/T/ipykernel_1340/1632035180.py:16: FutureWarning: Downcasting behavior in `replace` is deprecated and will be removed in a future version. To retain the old behavior, explicitly call `result.infer_objects(copy=False)`. To opt-in to the future behavior, set `pd.set_option('future.no_silent_downcasting', True)`\n",
      "  heart_df['HadHeartAttack'] = heart_df['HadHeartAttack'].replace({'Yes': True, 'No': False}).astype(bool)\n",
      "/var/folders/qc/m20c7_k95j52q7xcg6lwyd7w0000gn/T/ipykernel_1340/1632035180.py:16: FutureWarning: Downcasting behavior in `replace` is deprecated and will be removed in a future version. To retain the old behavior, explicitly call `result.infer_objects(copy=False)`. To opt-in to the future behavior, set `pd.set_option('future.no_silent_downcasting', True)`\n",
      "  heart_df['HadHeartAttack'] = heart_df['HadHeartAttack'].replace({'Yes': True, 'No': False}).astype(bool)\n",
      "/var/folders/qc/m20c7_k95j52q7xcg6lwyd7w0000gn/T/ipykernel_1340/1632035180.py:16: FutureWarning: Downcasting behavior in `replace` is deprecated and will be removed in a future version. To retain the old behavior, explicitly call `result.infer_objects(copy=False)`. To opt-in to the future behavior, set `pd.set_option('future.no_silent_downcasting', True)`\n",
      "  heart_df['HadHeartAttack'] = heart_df['HadHeartAttack'].replace({'Yes': True, 'No': False}).astype(bool)\n",
      "/var/folders/qc/m20c7_k95j52q7xcg6lwyd7w0000gn/T/ipykernel_1340/1632035180.py:16: FutureWarning: Downcasting behavior in `replace` is deprecated and will be removed in a future version. To retain the old behavior, explicitly call `result.infer_objects(copy=False)`. To opt-in to the future behavior, set `pd.set_option('future.no_silent_downcasting', True)`\n",
      "  heart_df['HadHeartAttack'] = heart_df['HadHeartAttack'].replace({'Yes': True, 'No': False}).astype(bool)\n",
      "/var/folders/qc/m20c7_k95j52q7xcg6lwyd7w0000gn/T/ipykernel_1340/1632035180.py:16: FutureWarning: Downcasting behavior in `replace` is deprecated and will be removed in a future version. To retain the old behavior, explicitly call `result.infer_objects(copy=False)`. To opt-in to the future behavior, set `pd.set_option('future.no_silent_downcasting', True)`\n",
      "  heart_df['HadHeartAttack'] = heart_df['HadHeartAttack'].replace({'Yes': True, 'No': False}).astype(bool)\n",
      "/var/folders/qc/m20c7_k95j52q7xcg6lwyd7w0000gn/T/ipykernel_1340/1632035180.py:16: FutureWarning: Downcasting behavior in `replace` is deprecated and will be removed in a future version. To retain the old behavior, explicitly call `result.infer_objects(copy=False)`. To opt-in to the future behavior, set `pd.set_option('future.no_silent_downcasting', True)`\n",
      "  heart_df['HadHeartAttack'] = heart_df['HadHeartAttack'].replace({'Yes': True, 'No': False}).astype(bool)\n",
      "/var/folders/qc/m20c7_k95j52q7xcg6lwyd7w0000gn/T/ipykernel_1340/1632035180.py:16: FutureWarning: Downcasting behavior in `replace` is deprecated and will be removed in a future version. To retain the old behavior, explicitly call `result.infer_objects(copy=False)`. To opt-in to the future behavior, set `pd.set_option('future.no_silent_downcasting', True)`\n",
      "  heart_df['HadHeartAttack'] = heart_df['HadHeartAttack'].replace({'Yes': True, 'No': False}).astype(bool)\n",
      "/var/folders/qc/m20c7_k95j52q7xcg6lwyd7w0000gn/T/ipykernel_1340/1632035180.py:16: FutureWarning: Downcasting behavior in `replace` is deprecated and will be removed in a future version. To retain the old behavior, explicitly call `result.infer_objects(copy=False)`. To opt-in to the future behavior, set `pd.set_option('future.no_silent_downcasting', True)`\n",
      "  heart_df['HadHeartAttack'] = heart_df['HadHeartAttack'].replace({'Yes': True, 'No': False}).astype(bool)\n"
     ]
    }
   ],
   "execution_count": 18
  },
  {
   "metadata": {
    "ExecuteTime": {
     "end_time": "2024-08-18T10:38:19.088109Z",
     "start_time": "2024-08-18T10:38:19.085224Z"
    }
   },
   "cell_type": "code",
   "source": [
    "# Chemin du fichier JSON où les résultats seront enregistrés\n",
    "output_path = \"../../Results/Heart Disease/Unicity.json\"\n",
    "\n",
    "# Écrire les résultats dans un fichier JSON\n",
    "with open(output_path, 'w') as json_file:\n",
    "    json.dump(results_dict, json_file, indent=4)\n",
    "\n",
    "print(f\"Results saved to {output_path}\")"
   ],
   "id": "8a15a542ffc79b64",
   "outputs": [
    {
     "name": "stdout",
     "output_type": "stream",
     "text": [
      "Results saved to ../../Results/Heart Disease/Unicity.json\n"
     ]
    }
   ],
   "execution_count": 19
  },
  {
   "metadata": {},
   "cell_type": "code",
   "outputs": [],
   "execution_count": null,
   "source": "",
   "id": "71bca1ed76787b1"
  }
 ],
 "metadata": {
  "kernelspec": {
   "display_name": "Python 3",
   "language": "python",
   "name": "python3"
  },
  "language_info": {
   "codemirror_mode": {
    "name": "ipython",
    "version": 2
   },
   "file_extension": ".py",
   "mimetype": "text/x-python",
   "name": "python",
   "nbconvert_exporter": "python",
   "pygments_lexer": "ipython2",
   "version": "2.7.6"
  }
 },
 "nbformat": 4,
 "nbformat_minor": 5
}
