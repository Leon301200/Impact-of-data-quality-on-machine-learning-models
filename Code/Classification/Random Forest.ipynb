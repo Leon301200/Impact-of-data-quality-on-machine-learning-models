{
 "cells": [
  {
   "cell_type": "code",
   "id": "initial_id",
   "metadata": {
    "collapsed": true,
    "ExecuteTime": {
     "end_time": "2024-08-19T23:35:28.383649Z",
     "start_time": "2024-08-19T23:35:27.575312Z"
    }
   },
   "source": [
    "# Importation des librairies\n",
    "import json\n",
    "import os\n",
    "import numpy as np\n",
    "import pandas as pd\n",
    "from sklearn.ensemble import RandomForestClassifier\n",
    "from sklearn.model_selection import StratifiedKFold, cross_validate"
   ],
   "outputs": [],
   "execution_count": 1
  },
  {
   "metadata": {
    "ExecuteTime": {
     "end_time": "2024-08-19T23:35:28.394979Z",
     "start_time": "2024-08-19T23:35:28.385805Z"
    }
   },
   "cell_type": "code",
   "source": "pd.set_option('future.no_silent_downcasting', True)",
   "id": "907ae2c0005a5dd1",
   "outputs": [],
   "execution_count": 2
  },
  {
   "metadata": {
    "ExecuteTime": {
     "end_time": "2024-08-19T23:35:28.420780Z",
     "start_time": "2024-08-19T23:35:28.401810Z"
    }
   },
   "cell_type": "code",
   "source": [
    "def read_csv_files_to_dict(base_path, dimension, file_prefix, missing_percentages, strategies=None):\n",
    "    dataframes_dict = {}\n",
    "\n",
    "    for percentage in missing_percentages:\n",
    "        percentage_key = f\"{int(percentage * 100)}%\"\n",
    "\n",
    "        if dimension == 'Completeness':\n",
    "            dataframes_dict[percentage_key] = {}\n",
    "\n",
    "            if strategies is not None:\n",
    "                for strategy_name, strategy_func, subfolder in strategies:\n",
    "                    file_path = f\"{base_path}/{dimension}/{subfolder}/{file_prefix}_{percentage_key}.csv\"\n",
    "\n",
    "                    try:\n",
    "                        df = pd.read_csv(file_path)\n",
    "                        dataframes_dict[percentage_key][strategy_name] = df\n",
    "                    except FileNotFoundError:\n",
    "                        print(f\"File not found: {file_path}\")\n",
    "                        dataframes_dict[percentage_key][strategy_name] = None\n",
    "            else:\n",
    "                print(\"No strategies provided for Completeness dimension.\")\n",
    "        elif dimension == 'Unicity':\n",
    "            file_path = f\"{base_path}/{dimension}/{file_prefix}_{percentage_key}_2x.csv\"\n",
    "            try:\n",
    "                df = pd.read_csv(file_path)\n",
    "                dataframes_dict[percentage_key] = df\n",
    "            except FileNotFoundError:\n",
    "                print(f\"File not found: {file_path}\")\n",
    "                dataframes_dict[percentage_key] = None\n",
    "        else:\n",
    "            file_path = f\"{base_path}/{dimension}/{file_prefix}_{percentage_key}.csv\"\n",
    "            try:\n",
    "                df = pd.read_csv(file_path)\n",
    "                dataframes_dict[percentage_key] = df\n",
    "            except FileNotFoundError:\n",
    "                print(f\"File not found: {file_path}\")\n",
    "                dataframes_dict[percentage_key] = None\n",
    "\n",
    "    return dataframes_dict\n",
    "\n",
    "def update_json_results(output_path, model_name, pollution_percentage, results):\n",
    "    # Charger le fichier JSON existant, ou initialiser une nouvelle structure si le fichier n'existe pas\n",
    "    if os.path.exists(output_path):\n",
    "        with open(output_path, 'r') as json_file:\n",
    "            results_dict = json.load(json_file)\n",
    "    else:\n",
    "        results_dict = {\n",
    "            \"models\": []\n",
    "        }\n",
    "\n",
    "    # Trouver ou ajouter l'entrée pour le modèle spécifié\n",
    "    model_entry = next((model for model in results_dict[\"models\"] if model[\"model\"] == model_name), None)\n",
    "\n",
    "    if not model_entry:\n",
    "        model_entry = {\n",
    "            \"model\": model_name,\n",
    "            \"pollution_metrics\": []\n",
    "        }\n",
    "        results_dict[\"models\"].append(model_entry)\n",
    "\n",
    "    # Chercher si le pourcentage de pollution existe déjà pour ce modèle\n",
    "    existing_entry = next((item for item in model_entry[\"pollution_metrics\"] if item[\"pollution_percentage\"] == pollution_percentage), None)\n",
    "\n",
    "    if existing_entry:\n",
    "        # Si le pourcentage de pollution existe, remplacer les métriques\n",
    "        existing_entry[\"metrics\"] = results\n",
    "    else:\n",
    "        # Sinon, ajouter une nouvelle entrée pour ce pourcentage\n",
    "        model_entry[\"pollution_metrics\"].append({\n",
    "            \"pollution_percentage\": pollution_percentage,\n",
    "            \"metrics\": results\n",
    "        })\n",
    "\n",
    "    # Écrire les résultats mis à jour dans le fichier JSON\n",
    "    with open(output_path, 'w') as json_file:\n",
    "        json.dump(results_dict, json_file, indent=4)\n",
    "\n",
    "    print(f\"Results saved to {output_path}\")\n",
    "\n",
    "def update_json_results_completeness(output_path, model_name, strategy, pollution_percentage, results):\n",
    "    # Charger le fichier JSON existant, ou initialiser une nouvelle structure si le fichier n'existe pas\n",
    "    if os.path.exists(output_path):\n",
    "        with open(output_path, 'r') as json_file:\n",
    "            results_dict = json.load(json_file)\n",
    "    else:\n",
    "        results_dict = {\n",
    "            \"models\": [\n",
    "                {\n",
    "                    \"model\": model_name,\n",
    "                    \"imputation_strategies\": []\n",
    "                }\n",
    "            ]\n",
    "        }\n",
    "\n",
    "    # Trouver ou ajouter l'entrée pour le modèle spécifié\n",
    "    model_entry = next((model for model in results_dict[\"models\"] if model[\"model\"] == model_name), None)\n",
    "\n",
    "    if not model_entry:\n",
    "        model_entry = {\n",
    "            \"model\": model_name,\n",
    "            \"imputation_strategies\": []\n",
    "        }\n",
    "        results_dict[\"models\"].append(model_entry)\n",
    "\n",
    "    # Trouver ou créer l'entrée pour la stratégie d'imputation actuelle\n",
    "    strategy_entry = next((item for item in model_entry[\"imputation_strategies\"] if item[\"strategy\"] == strategy), None)\n",
    "\n",
    "    if not strategy_entry:\n",
    "        # Ajouter une nouvelle stratégie d'imputation si elle n'existe pas encore\n",
    "        strategy_entry = {\n",
    "            \"strategy\": strategy,\n",
    "            \"pollution_metrics\": []\n",
    "        }\n",
    "        model_entry[\"imputation_strategies\"].append(strategy_entry)\n",
    "\n",
    "    # Vérifier si le pourcentage de pollution existe déjà pour cette stratégie\n",
    "    existing_entry = next((item for item in strategy_entry[\"pollution_metrics\"] if item[\"pollution_percentage\"] == pollution_percentage), None)\n",
    "\n",
    "    if existing_entry:\n",
    "        # Si le pourcentage de pollution existe, remplacer les métriques\n",
    "        existing_entry[\"metrics\"] = results\n",
    "    else:\n",
    "        # Sinon, ajouter une nouvelle entrée pour ce pourcentage\n",
    "        strategy_entry[\"pollution_metrics\"].append({\n",
    "            \"pollution_percentage\": pollution_percentage,\n",
    "            \"metrics\": results\n",
    "        })\n",
    "\n",
    "    # Écrire les résultats mis à jour dans le fichier JSON\n",
    "    with open(output_path, 'w') as json_file:\n",
    "        json.dump(results_dict, json_file, indent=4)\n",
    "\n",
    "    print(f\"Results saved to {output_path}\")\n",
    "\n",
    "def prepare_heart_data(heart_df):\n",
    "    # Remplacer les valeurs de la colonne 'HadHeartAttack' par des booléens\n",
    "    heart_df['HadHeartAttack'] = heart_df['HadHeartAttack'].replace({'Yes': True, 'No': False}).astype(bool)\n",
    "\n",
    "    # Convertir les variables catégorielles en variables dummy, en supprimant la première catégorie\n",
    "    heart_df = pd.get_dummies(heart_df, drop_first=True)\n",
    "\n",
    "    # Séparer les variables indépendantes (X) de la variable cible (y)\n",
    "    X = heart_df.drop('HadHeartAttack', axis=1)\n",
    "    y = heart_df['HadHeartAttack']\n",
    "\n",
    "    return X, y\n",
    "\n",
    "def train_and_evaluate(X, y):\n",
    "    model = RandomForestClassifier(random_state=42)\n",
    "    kfold = StratifiedKFold(n_splits=5, shuffle=True, random_state=42)\n",
    "\n",
    "    scoring = ['accuracy', 'precision_macro', 'recall_macro', 'f1_macro']\n",
    "\n",
    "    cv_results = cross_validate(model, X, y, cv=kfold, scoring=scoring)\n",
    "\n",
    "    results = {\n",
    "        \"accuracy\": cv_results['test_accuracy'].mean(),\n",
    "        \"precision\": cv_results['test_precision_macro'].mean(),\n",
    "        \"recall\": cv_results['test_recall_macro'].mean(),\n",
    "        \"f1_score\": cv_results['test_f1_macro'].mean()\n",
    "    }\n",
    "\n",
    "    return results"
   ],
   "id": "f1cf748ddfee47b2",
   "outputs": [],
   "execution_count": 3
  },
  {
   "metadata": {},
   "cell_type": "markdown",
   "source": "## Completeness",
   "id": "a0f672e16e4a2f1c"
  },
  {
   "metadata": {},
   "cell_type": "code",
   "outputs": [],
   "execution_count": null,
   "source": [
    "# Utilisation de la fonction dans votre code existant\n",
    "missing_percentages = [0.0, 0.1, 0.2, 0.3, 0.4, 0.5, 0.6, 0.7, 0.8]\n",
    "\n",
    "# Strategy :\n",
    "strategy_delete = {\n",
    "    'numerical': 'delete',\n",
    "    'categorical': 'delete'\n",
    "}\n",
    "\n",
    "strategy_mean_mode = {\n",
    "    'numerical': 'mean',\n",
    "    'categorical': 'mode'\n",
    "}\n",
    "\n",
    "strategy_median_new = {\n",
    "    'numerical': 'median',\n",
    "    'categorical': 'new'\n",
    "}\n",
    "\n",
    "strategy_decision_tree = {\n",
    "    'numerical': 'decision_tree',\n",
    "    'categorical': 'decision_tree'\n",
    "}\n",
    "\n",
    "strategy_mean_new = {\n",
    "    'numerical': 'mean',\n",
    "    'categorical': 'new'\n",
    "}\n",
    "\n",
    "strategy_knn_mode = {\n",
    "    'numerical': 'knn',\n",
    "    'categorical': 'mode'\n",
    "}\n",
    "\n",
    "strategies = [\n",
    "    (\"Mean and Mode\", strategy_mean_mode, \"Mean and Mode\"),\n",
    "    (\"Median and New\", strategy_median_new, \"Median and New\"),\n",
    "    (\"Decision Tree\", strategy_decision_tree, \"Decision Tree\"),\n",
    "    (\"Mean and New\", strategy_mean_new, \"Mean and New\")\n",
    "]\n",
    "\n",
    "heart_df_dict = read_csv_files_to_dict('../../Data/Classification/Indicators of Heart Disease', 'Completeness', 'heart', missing_percentages, strategies)\n",
    "\n",
    "# Chemin du fichier JSON où les résultats seront enregistrés\n",
    "output_path = \"../../Results/Heart Disease/Completeness.json\"\n",
    "\n",
    "# Boucle sur les DataFrames pour chaque pourcentage de pollution\n",
    "for key, heart_df_strategies in heart_df_dict.items():\n",
    "    for strategy_name, heart_df in heart_df_strategies.items():\n",
    "        X, y = prepare_heart_data(heart_df)\n",
    "\n",
    "        results = train_and_evaluate(X, y)\n",
    "\n",
    "        # Extraire le pourcentage de pollution à partir de la clé\n",
    "        pollution_percentage = float(key.replace('%', ''))\n",
    "\n",
    "        # Mise à jour des résultats dans le fichier JSON en utilisant la fonction\n",
    "        update_json_results_completeness(output_path, \"Random Forest\", strategy_name, pollution_percentage, results)"
   ],
   "id": "e65ef56c365fa9d7"
  },
  {
   "metadata": {},
   "cell_type": "markdown",
   "source": "## Consistent Representation",
   "id": "87e6e487fb9bbdf1"
  },
  {
   "metadata": {},
   "cell_type": "code",
   "outputs": [],
   "execution_count": null,
   "source": [
    "# Utilisation de la fonction dans votre code existant\n",
    "missing_percentages = [0.0, 0.1, 0.2, 0.3, 0.4, 0.5, 0.6, 0.7, 0.8]\n",
    "heart_df_dict = read_csv_files_to_dict('../../Data/Classification/Indicators of Heart Disease', 'Consistent Representation', 'heart', missing_percentages)\n",
    "\n",
    "# Chemin du fichier JSON où les résultats seront enregistrés\n",
    "output_path = \"../../Results/Heart Disease/Consistent Representation.json\"\n",
    "\n",
    "# Boucle sur les DataFrames pour chaque pourcentage de pollution\n",
    "for key, heart_df in heart_df_dict.items():\n",
    "    X, y = prepare_heart_data(heart_df)\n",
    "\n",
    "    results = train_and_evaluate(X, y)\n",
    "\n",
    "    # Extraire le pourcentage de pollution à partir de la clé\n",
    "    pollution_percentage = float(key.replace('%', ''))\n",
    "\n",
    "    # Mise à jour des résultats dans le fichier JSON\n",
    "    update_json_results(output_path, \"Random Forest\", pollution_percentage, results)"
   ],
   "id": "2dadc43bf067bc05"
  },
  {
   "metadata": {},
   "cell_type": "markdown",
   "source": "## Feature Accuracy",
   "id": "6c151086e030e2ac"
  },
  {
   "metadata": {
    "ExecuteTime": {
     "end_time": "2024-08-19T23:55:41.160443Z",
     "start_time": "2024-08-19T23:36:03.265822Z"
    }
   },
   "cell_type": "code",
   "source": [
    "# Utilisation de la fonction dans votre code existant\n",
    "missing_percentages = [0.0, 0.1, 0.2, 0.3, 0.4, 0.5, 0.6, 0.7, 0.8]\n",
    "heart_df_dict = read_csv_files_to_dict('../../Data/Classification/Indicators of Heart Disease', 'Feature Accuracy', 'heart', missing_percentages)\n",
    "\n",
    "# Chemin du fichier JSON où les résultats seront enregistrés\n",
    "output_path = \"../../Results/Heart Disease/Consistent Representation.json\"\n",
    "\n",
    "# Boucle sur les DataFrames pour chaque pourcentage de pollution\n",
    "for key, heart_df in heart_df_dict.items():\n",
    "    X, y = prepare_heart_data(heart_df)\n",
    "\n",
    "    results = train_and_evaluate(X, y)\n",
    "\n",
    "    # Extraire le pourcentage de pollution à partir de la clé\n",
    "    pollution_percentage = float(key.replace('%', ''))\n",
    "\n",
    "    # Mise à jour des résultats dans le fichier JSON\n",
    "    update_json_results(output_path, \"Random Forest\", pollution_percentage, results)"
   ],
   "id": "578b1b3139ef2eea",
   "outputs": [
    {
     "name": "stdout",
     "output_type": "stream",
     "text": [
      "Results saved to ../../Results/Heart Disease/Consistent Representation.json\n",
      "Results saved to ../../Results/Heart Disease/Consistent Representation.json\n",
      "Results saved to ../../Results/Heart Disease/Consistent Representation.json\n"
     ]
    },
    {
     "name": "stderr",
     "output_type": "stream",
     "text": [
      "/opt/anaconda3/envs/Impact-of-data-quality-on-machine-learning-models/lib/python3.11/site-packages/sklearn/metrics/_classification.py:1531: UndefinedMetricWarning: Precision is ill-defined and being set to 0.0 in labels with no predicted samples. Use `zero_division` parameter to control this behavior.\n",
      "  _warn_prf(average, modifier, f\"{metric.capitalize()} is\", len(result))\n",
      "/opt/anaconda3/envs/Impact-of-data-quality-on-machine-learning-models/lib/python3.11/site-packages/sklearn/metrics/_classification.py:1531: UndefinedMetricWarning: Precision is ill-defined and being set to 0.0 in labels with no predicted samples. Use `zero_division` parameter to control this behavior.\n",
      "  _warn_prf(average, modifier, f\"{metric.capitalize()} is\", len(result))\n",
      "/opt/anaconda3/envs/Impact-of-data-quality-on-machine-learning-models/lib/python3.11/site-packages/sklearn/metrics/_classification.py:1531: UndefinedMetricWarning: Precision is ill-defined and being set to 0.0 in labels with no predicted samples. Use `zero_division` parameter to control this behavior.\n",
      "  _warn_prf(average, modifier, f\"{metric.capitalize()} is\", len(result))\n",
      "/opt/anaconda3/envs/Impact-of-data-quality-on-machine-learning-models/lib/python3.11/site-packages/sklearn/metrics/_classification.py:1531: UndefinedMetricWarning: Precision is ill-defined and being set to 0.0 in labels with no predicted samples. Use `zero_division` parameter to control this behavior.\n",
      "  _warn_prf(average, modifier, f\"{metric.capitalize()} is\", len(result))\n",
      "/opt/anaconda3/envs/Impact-of-data-quality-on-machine-learning-models/lib/python3.11/site-packages/sklearn/metrics/_classification.py:1531: UndefinedMetricWarning: Precision is ill-defined and being set to 0.0 in labels with no predicted samples. Use `zero_division` parameter to control this behavior.\n",
      "  _warn_prf(average, modifier, f\"{metric.capitalize()} is\", len(result))\n"
     ]
    },
    {
     "name": "stdout",
     "output_type": "stream",
     "text": [
      "Results saved to ../../Results/Heart Disease/Consistent Representation.json\n"
     ]
    },
    {
     "name": "stderr",
     "output_type": "stream",
     "text": [
      "/opt/anaconda3/envs/Impact-of-data-quality-on-machine-learning-models/lib/python3.11/site-packages/sklearn/metrics/_classification.py:1531: UndefinedMetricWarning: Precision is ill-defined and being set to 0.0 in labels with no predicted samples. Use `zero_division` parameter to control this behavior.\n",
      "  _warn_prf(average, modifier, f\"{metric.capitalize()} is\", len(result))\n",
      "/opt/anaconda3/envs/Impact-of-data-quality-on-machine-learning-models/lib/python3.11/site-packages/sklearn/metrics/_classification.py:1531: UndefinedMetricWarning: Precision is ill-defined and being set to 0.0 in labels with no predicted samples. Use `zero_division` parameter to control this behavior.\n",
      "  _warn_prf(average, modifier, f\"{metric.capitalize()} is\", len(result))\n",
      "/opt/anaconda3/envs/Impact-of-data-quality-on-machine-learning-models/lib/python3.11/site-packages/sklearn/metrics/_classification.py:1531: UndefinedMetricWarning: Precision is ill-defined and being set to 0.0 in labels with no predicted samples. Use `zero_division` parameter to control this behavior.\n",
      "  _warn_prf(average, modifier, f\"{metric.capitalize()} is\", len(result))\n",
      "/opt/anaconda3/envs/Impact-of-data-quality-on-machine-learning-models/lib/python3.11/site-packages/sklearn/metrics/_classification.py:1531: UndefinedMetricWarning: Precision is ill-defined and being set to 0.0 in labels with no predicted samples. Use `zero_division` parameter to control this behavior.\n",
      "  _warn_prf(average, modifier, f\"{metric.capitalize()} is\", len(result))\n",
      "/opt/anaconda3/envs/Impact-of-data-quality-on-machine-learning-models/lib/python3.11/site-packages/sklearn/metrics/_classification.py:1531: UndefinedMetricWarning: Precision is ill-defined and being set to 0.0 in labels with no predicted samples. Use `zero_division` parameter to control this behavior.\n",
      "  _warn_prf(average, modifier, f\"{metric.capitalize()} is\", len(result))\n"
     ]
    },
    {
     "name": "stdout",
     "output_type": "stream",
     "text": [
      "Results saved to ../../Results/Heart Disease/Consistent Representation.json\n"
     ]
    },
    {
     "name": "stderr",
     "output_type": "stream",
     "text": [
      "/opt/anaconda3/envs/Impact-of-data-quality-on-machine-learning-models/lib/python3.11/site-packages/sklearn/metrics/_classification.py:1531: UndefinedMetricWarning: Precision is ill-defined and being set to 0.0 in labels with no predicted samples. Use `zero_division` parameter to control this behavior.\n",
      "  _warn_prf(average, modifier, f\"{metric.capitalize()} is\", len(result))\n",
      "/opt/anaconda3/envs/Impact-of-data-quality-on-machine-learning-models/lib/python3.11/site-packages/sklearn/metrics/_classification.py:1531: UndefinedMetricWarning: Precision is ill-defined and being set to 0.0 in labels with no predicted samples. Use `zero_division` parameter to control this behavior.\n",
      "  _warn_prf(average, modifier, f\"{metric.capitalize()} is\", len(result))\n",
      "/opt/anaconda3/envs/Impact-of-data-quality-on-machine-learning-models/lib/python3.11/site-packages/sklearn/metrics/_classification.py:1531: UndefinedMetricWarning: Precision is ill-defined and being set to 0.0 in labels with no predicted samples. Use `zero_division` parameter to control this behavior.\n",
      "  _warn_prf(average, modifier, f\"{metric.capitalize()} is\", len(result))\n",
      "/opt/anaconda3/envs/Impact-of-data-quality-on-machine-learning-models/lib/python3.11/site-packages/sklearn/metrics/_classification.py:1531: UndefinedMetricWarning: Precision is ill-defined and being set to 0.0 in labels with no predicted samples. Use `zero_division` parameter to control this behavior.\n",
      "  _warn_prf(average, modifier, f\"{metric.capitalize()} is\", len(result))\n",
      "/opt/anaconda3/envs/Impact-of-data-quality-on-machine-learning-models/lib/python3.11/site-packages/sklearn/metrics/_classification.py:1531: UndefinedMetricWarning: Precision is ill-defined and being set to 0.0 in labels with no predicted samples. Use `zero_division` parameter to control this behavior.\n",
      "  _warn_prf(average, modifier, f\"{metric.capitalize()} is\", len(result))\n"
     ]
    },
    {
     "name": "stdout",
     "output_type": "stream",
     "text": [
      "Results saved to ../../Results/Heart Disease/Consistent Representation.json\n"
     ]
    },
    {
     "name": "stderr",
     "output_type": "stream",
     "text": [
      "/opt/anaconda3/envs/Impact-of-data-quality-on-machine-learning-models/lib/python3.11/site-packages/sklearn/metrics/_classification.py:1531: UndefinedMetricWarning: Precision is ill-defined and being set to 0.0 in labels with no predicted samples. Use `zero_division` parameter to control this behavior.\n",
      "  _warn_prf(average, modifier, f\"{metric.capitalize()} is\", len(result))\n",
      "/opt/anaconda3/envs/Impact-of-data-quality-on-machine-learning-models/lib/python3.11/site-packages/sklearn/metrics/_classification.py:1531: UndefinedMetricWarning: Precision is ill-defined and being set to 0.0 in labels with no predicted samples. Use `zero_division` parameter to control this behavior.\n",
      "  _warn_prf(average, modifier, f\"{metric.capitalize()} is\", len(result))\n",
      "/opt/anaconda3/envs/Impact-of-data-quality-on-machine-learning-models/lib/python3.11/site-packages/sklearn/metrics/_classification.py:1531: UndefinedMetricWarning: Precision is ill-defined and being set to 0.0 in labels with no predicted samples. Use `zero_division` parameter to control this behavior.\n",
      "  _warn_prf(average, modifier, f\"{metric.capitalize()} is\", len(result))\n",
      "/opt/anaconda3/envs/Impact-of-data-quality-on-machine-learning-models/lib/python3.11/site-packages/sklearn/metrics/_classification.py:1531: UndefinedMetricWarning: Precision is ill-defined and being set to 0.0 in labels with no predicted samples. Use `zero_division` parameter to control this behavior.\n",
      "  _warn_prf(average, modifier, f\"{metric.capitalize()} is\", len(result))\n",
      "/opt/anaconda3/envs/Impact-of-data-quality-on-machine-learning-models/lib/python3.11/site-packages/sklearn/metrics/_classification.py:1531: UndefinedMetricWarning: Precision is ill-defined and being set to 0.0 in labels with no predicted samples. Use `zero_division` parameter to control this behavior.\n",
      "  _warn_prf(average, modifier, f\"{metric.capitalize()} is\", len(result))\n"
     ]
    },
    {
     "name": "stdout",
     "output_type": "stream",
     "text": [
      "Results saved to ../../Results/Heart Disease/Consistent Representation.json\n"
     ]
    },
    {
     "name": "stderr",
     "output_type": "stream",
     "text": [
      "/opt/anaconda3/envs/Impact-of-data-quality-on-machine-learning-models/lib/python3.11/site-packages/sklearn/metrics/_classification.py:1531: UndefinedMetricWarning: Precision is ill-defined and being set to 0.0 in labels with no predicted samples. Use `zero_division` parameter to control this behavior.\n",
      "  _warn_prf(average, modifier, f\"{metric.capitalize()} is\", len(result))\n",
      "/opt/anaconda3/envs/Impact-of-data-quality-on-machine-learning-models/lib/python3.11/site-packages/sklearn/metrics/_classification.py:1531: UndefinedMetricWarning: Precision is ill-defined and being set to 0.0 in labels with no predicted samples. Use `zero_division` parameter to control this behavior.\n",
      "  _warn_prf(average, modifier, f\"{metric.capitalize()} is\", len(result))\n",
      "/opt/anaconda3/envs/Impact-of-data-quality-on-machine-learning-models/lib/python3.11/site-packages/sklearn/metrics/_classification.py:1531: UndefinedMetricWarning: Precision is ill-defined and being set to 0.0 in labels with no predicted samples. Use `zero_division` parameter to control this behavior.\n",
      "  _warn_prf(average, modifier, f\"{metric.capitalize()} is\", len(result))\n",
      "/opt/anaconda3/envs/Impact-of-data-quality-on-machine-learning-models/lib/python3.11/site-packages/sklearn/metrics/_classification.py:1531: UndefinedMetricWarning: Precision is ill-defined and being set to 0.0 in labels with no predicted samples. Use `zero_division` parameter to control this behavior.\n",
      "  _warn_prf(average, modifier, f\"{metric.capitalize()} is\", len(result))\n",
      "/opt/anaconda3/envs/Impact-of-data-quality-on-machine-learning-models/lib/python3.11/site-packages/sklearn/metrics/_classification.py:1531: UndefinedMetricWarning: Precision is ill-defined and being set to 0.0 in labels with no predicted samples. Use `zero_division` parameter to control this behavior.\n",
      "  _warn_prf(average, modifier, f\"{metric.capitalize()} is\", len(result))\n"
     ]
    },
    {
     "name": "stdout",
     "output_type": "stream",
     "text": [
      "Results saved to ../../Results/Heart Disease/Consistent Representation.json\n"
     ]
    },
    {
     "name": "stderr",
     "output_type": "stream",
     "text": [
      "/opt/anaconda3/envs/Impact-of-data-quality-on-machine-learning-models/lib/python3.11/site-packages/sklearn/metrics/_classification.py:1531: UndefinedMetricWarning: Precision is ill-defined and being set to 0.0 in labels with no predicted samples. Use `zero_division` parameter to control this behavior.\n",
      "  _warn_prf(average, modifier, f\"{metric.capitalize()} is\", len(result))\n",
      "/opt/anaconda3/envs/Impact-of-data-quality-on-machine-learning-models/lib/python3.11/site-packages/sklearn/metrics/_classification.py:1531: UndefinedMetricWarning: Precision is ill-defined and being set to 0.0 in labels with no predicted samples. Use `zero_division` parameter to control this behavior.\n",
      "  _warn_prf(average, modifier, f\"{metric.capitalize()} is\", len(result))\n"
     ]
    },
    {
     "name": "stdout",
     "output_type": "stream",
     "text": [
      "Results saved to ../../Results/Heart Disease/Consistent Representation.json\n"
     ]
    },
    {
     "name": "stderr",
     "output_type": "stream",
     "text": [
      "/opt/anaconda3/envs/Impact-of-data-quality-on-machine-learning-models/lib/python3.11/site-packages/sklearn/metrics/_classification.py:1531: UndefinedMetricWarning: Precision is ill-defined and being set to 0.0 in labels with no predicted samples. Use `zero_division` parameter to control this behavior.\n",
      "  _warn_prf(average, modifier, f\"{metric.capitalize()} is\", len(result))\n"
     ]
    }
   ],
   "execution_count": 4
  },
  {
   "metadata": {},
   "cell_type": "markdown",
   "source": "## Target Accuracy",
   "id": "b9ee622123f407f8"
  },
  {
   "metadata": {},
   "cell_type": "code",
   "outputs": [],
   "execution_count": null,
   "source": [
    "pollution_percentage_levels = [0.0, 0.1, 0.2, 0.3, 0.4, 0.5, 0.6, 0.7, 0.8]\n",
    "heart_df_dict = read_csv_files_to_dict('../../Data/Classification/Indicators of Heart Disease', 'Target Accuracy', 'heart', pollution_percentage_levels)\n",
    "\n",
    "# Chemin du fichier JSON où les résultats seront enregistrés\n",
    "output_path = \"../../Results/Heart Disease/Target Accuracy.json\"\n",
    "\n",
    "# Boucle sur les DataFrames pour chaque pourcentage de pollution\n",
    "for key, heart_df in heart_df_dict.items():\n",
    "    X, y = prepare_heart_data(heart_df)\n",
    "\n",
    "    results = train_and_evaluate(X, y)\n",
    "\n",
    "    # Extraire le pourcentage de pollution à partir de la clé\n",
    "    pollution_percentage = float(key.replace('%', ''))\n",
    "\n",
    "    # Mise à jour des résultats dans le fichier JSON\n",
    "    update_json_results(output_path, \"Random Forest\", pollution_percentage, results)"
   ],
   "id": "1d2419870fc9d357"
  },
  {
   "metadata": {},
   "cell_type": "markdown",
   "source": "## Target Class Balance",
   "id": "fa6fce9a21b40e71"
  },
  {
   "metadata": {},
   "cell_type": "code",
   "outputs": [],
   "execution_count": null,
   "source": [
    "balance_levels = [0.1, 0.2, 0.3, 0.4, 0.5, 0.6, 0.7, 0.8, 0.9]\n",
    "heart_df_dict = read_csv_files_to_dict('../../Data/Classification/Indicators of Heart Disease', 'Target Class Balance', 'heart', balance_levels)\n",
    "\n",
    "# Chemin du fichier JSON où les résultats seront enregistrés\n",
    "output_path = \"../../Results/Heart Disease/Target Class Balance.json\"\n",
    "\n",
    "# Boucle sur les DataFrames pour chaque pourcentage de pollution\n",
    "for key, heart_df in heart_df_dict.items():\n",
    "    X, y = prepare_heart_data(heart_df)\n",
    "\n",
    "    results = train_and_evaluate(X, y)\n",
    "\n",
    "    # Extraire le pourcentage de pollution à partir de la clé\n",
    "    pollution_percentage = float(key.replace('%', ''))\n",
    "\n",
    "    # Mise à jour des résultats dans le fichier JSON\n",
    "    update_json_results(output_path, \"Random Forest\", pollution_percentage, results)"
   ],
   "id": "3acebec6e1ab258a"
  },
  {
   "metadata": {},
   "cell_type": "markdown",
   "source": "## Unicity",
   "id": "fd841c4178544b43"
  },
  {
   "metadata": {},
   "cell_type": "code",
   "outputs": [],
   "execution_count": null,
   "source": [
    "pollution_percentage_levels = [0, 0.1, 0.2, 0.3, 0.4, 0.5, 0.6, 0.7, 0.8]\n",
    "heart_df_dict = read_csv_files_to_dict('../../Data/Classification/Indicators of Heart Disease', 'Unicity', 'heart', pollution_percentage_levels)\n",
    "\n",
    "# Chemin du fichier JSON où les résultats seront enregistrés\n",
    "output_path = \"../../Results/Heart Disease/Unicity.json\"\n",
    "\n",
    "# Boucle sur les DataFrames pour chaque pourcentage de pollution\n",
    "for key, heart_df in heart_df_dict.items():\n",
    "    X, y = prepare_heart_data(heart_df)\n",
    "\n",
    "    results = train_and_evaluate(X, y)\n",
    "\n",
    "    # Extraire le pourcentage de pollution à partir de la clé\n",
    "    pollution_percentage = float(key.replace('%', ''))\n",
    "\n",
    "    # Mise à jour des résultats dans le fichier JSON\n",
    "    update_json_results(output_path, \"Random Forest\", pollution_percentage, results)"
   ],
   "id": "73c85ff7776d7595"
  }
 ],
 "metadata": {
  "kernelspec": {
   "display_name": "Python 3",
   "language": "python",
   "name": "python3"
  },
  "language_info": {
   "codemirror_mode": {
    "name": "ipython",
    "version": 2
   },
   "file_extension": ".py",
   "mimetype": "text/x-python",
   "name": "python",
   "nbconvert_exporter": "python",
   "pygments_lexer": "ipython2",
   "version": "2.7.6"
  }
 },
 "nbformat": 4,
 "nbformat_minor": 5
}
