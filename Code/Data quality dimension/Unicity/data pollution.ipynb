{
 "cells": [
  {
   "cell_type": "code",
   "id": "f264e2604700d9e0",
   "metadata": {
    "collapsed": true,
    "ExecuteTime": {
     "end_time": "2024-08-17T16:07:57.505203Z",
     "start_time": "2024-08-17T16:07:57.503150Z"
    }
   },
   "source": [
    "import pandas as pd\n",
    "import numpy as np"
   ],
   "outputs": [],
   "execution_count": 12
  },
  {
   "metadata": {
    "ExecuteTime": {
     "end_time": "2024-08-17T16:07:59.479192Z",
     "start_time": "2024-08-17T16:07:57.889938Z"
    }
   },
   "cell_type": "code",
   "source": [
    "# Chargement des DataSets\n",
    "fps_df = pd.read_csv('../../../Data/Regression/fps in video games/fps-in-video-games_clean.csv')\n",
    "heart_df = pd.read_csv('../../../Data/Classification/Indicators of Heart Disease/heart_2022_no_nans_clean.csv')\n",
    "retail_df = pd.read_csv('../../../Data/Clustering/retail Data/retail_data_clean.csv')"
   ],
   "id": "d89ab6e87c438683",
   "outputs": [
    {
     "name": "stderr",
     "output_type": "stream",
     "text": [
      "/var/folders/qc/m20c7_k95j52q7xcg6lwyd7w0000gn/T/ipykernel_15662/3500090452.py:2: DtypeWarning: Columns (25,30) have mixed types. Specify dtype option on import or set low_memory=False.\n",
      "  fps_df = pd.read_csv('../../../Data/Regression/fps in video games/fps-in-video-games_clean.csv')\n"
     ]
    }
   ],
   "execution_count": 13
  },
  {
   "metadata": {
    "ExecuteTime": {
     "end_time": "2024-08-17T16:07:59.482671Z",
     "start_time": "2024-08-17T16:07:59.480208Z"
    }
   },
   "cell_type": "code",
   "source": [
    "def unicity(df, percentages, duplication_factors = [2]):\n",
    "    df_dict = {}\n",
    "\n",
    "    # Boucle à travers chaque combinaison de duplication_factors et percentages\n",
    "    for duplication_factor in duplication_factors:\n",
    "        for percentage in percentages:\n",
    "            df_polluted = df.copy()\n",
    "\n",
    "            # Vérifier que le facteur de duplication est supérieur ou égal à 1\n",
    "            if duplication_factor < 1:\n",
    "                raise ValueError(\"Le facteur de duplication doit être supérieur ou égal à 1.\")\n",
    "\n",
    "            # Vérifier que le pourcentage est entre 0 et 1\n",
    "            if not 0 <= percentage <= 1:\n",
    "                raise ValueError(\"Le pourcentage doit être compris entre 0 et 1.\")\n",
    "\n",
    "            # Sélectionner un pourcentage aléatoire de lignes à dupliquer\n",
    "            mask = np.random.rand(len(df_polluted)) < percentage\n",
    "            rows_to_duplicate = df_polluted[mask]\n",
    "\n",
    "            # Ajouter des duplicatas pour les lignes sélectionnées\n",
    "            duplicates = []\n",
    "            for _ in range(duplication_factor - 1):\n",
    "                duplicates.append(rows_to_duplicate)\n",
    "\n",
    "            # Concaténer l'original et les duplicatas\n",
    "            df_polluted = pd.concat([df_polluted] + duplicates, ignore_index=True)\n",
    "\n",
    "            # Ajouter le DataFrame pollué au dictionnaire avec une clé descriptive\n",
    "            key = f\"{int(percentage * 100)}%_{duplication_factor}x\"\n",
    "            df_dict[key] = df_polluted\n",
    "\n",
    "    return df_dict"
   ],
   "id": "initial_id",
   "outputs": [],
   "execution_count": 14
  },
  {
   "metadata": {
    "ExecuteTime": {
     "end_time": "2024-08-17T16:08:01.899091Z",
     "start_time": "2024-08-17T16:07:59.483267Z"
    }
   },
   "cell_type": "code",
   "source": [
    "# Liste des pourcentages de valeurs manquantes à introduire\n",
    "pollution_levels = [0.0, 0.1, 0.2, 0.3, 0.4, 0.5, 0.6, 0.7, 0.8]\n",
    "\n",
    "# Génération des DataFrames avec valeurs manquantes\n",
    "fps_df_with_unicity = unicity(fps_df, pollution_levels)\n",
    "heart_df_with_unicity = unicity(heart_df, pollution_levels)\n",
    "retail_df_with_unicity = unicity(retail_df, pollution_levels)"
   ],
   "id": "1402664b6b8000c3",
   "outputs": [],
   "execution_count": 15
  },
  {
   "metadata": {
    "ExecuteTime": {
     "end_time": "2024-08-17T16:09:12.333307Z",
     "start_time": "2024-08-17T16:08:01.900133Z"
    }
   },
   "cell_type": "code",
   "source": [
    "# Enregistrement des DataFrames générés\n",
    "for key, value in fps_df_with_unicity.items():\n",
    "    value.to_csv(f\"../../../Data/Regression/fps in video games/Unicity/fps_{key}.csv\", index=False)\n",
    "\n",
    "for key, value in heart_df_with_unicity.items():\n",
    "    value.to_csv(f\"../../../Data/Classification/Indicators of Heart Disease/Unicity/heart_{key}.csv\", index=False)\n",
    "\n",
    "for key, value in retail_df_with_unicity.items():\n",
    "    value.to_csv(f\"../../../Data/Clustering/retail Data/Unicity/retail_{key}.csv\", index=False)"
   ],
   "id": "d631020ed69fc798",
   "outputs": [],
   "execution_count": 16
  },
  {
   "metadata": {},
   "cell_type": "code",
   "outputs": [],
   "execution_count": null,
   "source": "",
   "id": "5d33b1e35bbd211a"
  }
 ],
 "metadata": {
  "kernelspec": {
   "display_name": "Python 3",
   "language": "python",
   "name": "python3"
  },
  "language_info": {
   "codemirror_mode": {
    "name": "ipython",
    "version": 2
   },
   "file_extension": ".py",
   "mimetype": "text/x-python",
   "name": "python",
   "nbconvert_exporter": "python",
   "pygments_lexer": "ipython2",
   "version": "2.7.6"
  }
 },
 "nbformat": 4,
 "nbformat_minor": 5
}
