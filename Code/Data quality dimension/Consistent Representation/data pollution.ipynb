{
 "cells": [
  {
   "cell_type": "code",
   "id": "7b05df39268ce424",
   "metadata": {
    "collapsed": true,
    "ExecuteTime": {
     "end_time": "2024-08-17T16:11:36.645806Z",
     "start_time": "2024-08-17T16:11:36.403023Z"
    }
   },
   "source": [
    "import pandas as pd\n",
    "import numpy as np"
   ],
   "outputs": [],
   "execution_count": 1
  },
  {
   "metadata": {
    "ExecuteTime": {
     "end_time": "2024-08-17T16:11:38.232253Z",
     "start_time": "2024-08-17T16:11:36.650855Z"
    }
   },
   "cell_type": "code",
   "source": [
    "# Chargement des DataSets\n",
    "fps_df = pd.read_csv('../../../Data/Regression/fps in video games/fps-in-video-games_clean.csv')\n",
    "heart_df = pd.read_csv('../../../Data/Classification/Indicators of Heart Disease/heart_2022_no_nans_clean.csv')\n",
    "retail_df = pd.read_csv('../../../Data/Clustering/retail Data/retail_data_clean.csv')"
   ],
   "id": "43d1728233f88c3b",
   "outputs": [
    {
     "name": "stderr",
     "output_type": "stream",
     "text": [
      "/var/folders/qc/m20c7_k95j52q7xcg6lwyd7w0000gn/T/ipykernel_15749/3500090452.py:2: DtypeWarning: Columns (25,30) have mixed types. Specify dtype option on import or set low_memory=False.\n",
      "  fps_df = pd.read_csv('../../../Data/Regression/fps in video games/fps-in-video-games_clean.csv')\n"
     ]
    }
   ],
   "execution_count": 2
  },
  {
   "metadata": {
    "ExecuteTime": {
     "end_time": "2024-08-17T16:11:38.236909Z",
     "start_time": "2024-08-17T16:11:38.233137Z"
    }
   },
   "cell_type": "code",
   "source": [
    "def consistent_representation(df, pollution_percentages, max_variations=3, target_column=None):\n",
    "    df_dict = {}\n",
    "\n",
    "    for pollution_percentage in pollution_percentages:\n",
    "        df_polluted = df.copy()\n",
    "\n",
    "        # Sélectionner les colonnes catégoriques, en excluant la colonne cible\n",
    "        if target_column:\n",
    "            categorical_columns = df_polluted.select_dtypes(include=['object', 'category']).columns\n",
    "            categorical_columns = [col for col in categorical_columns if col != target_column]\n",
    "        else:\n",
    "            categorical_columns = df_polluted.select_dtypes(include=['object', 'category']).columns\n",
    "\n",
    "        for col in categorical_columns:\n",
    "            # Obtenir les valeurs uniques dans la colonne\n",
    "            unique_values = df_polluted[col].unique()\n",
    "\n",
    "            # Créer des variations pour chaque valeur unique\n",
    "            variations_dict = {}\n",
    "            for value in unique_values:\n",
    "                variations = [value]  # Commencez avec la valeur originale\n",
    "                for i in range(1, max_variations):\n",
    "                    variations.append(f\"{value}_var{i}\")\n",
    "                variations_dict[value] = variations\n",
    "\n",
    "            # Appliquer des variations sur un sous-ensemble des lignes\n",
    "            mask = np.random.rand(len(df_polluted)) < pollution_percentage\n",
    "            df_polluted.loc[mask, col] = df_polluted.loc[mask, col].apply(\n",
    "                lambda x: np.random.choice(variations_dict[x]) if x in variations_dict else x\n",
    "            )\n",
    "\n",
    "        # Ajouter le DataFrame pollué au dictionnaire avec le pourcentage de pollution comme clé\n",
    "        df_dict[f\"{int(pollution_percentage * 100)}%\"] = df_polluted\n",
    "\n",
    "    return df_dict"
   ],
   "id": "initial_id",
   "outputs": [],
   "execution_count": 3
  },
  {
   "metadata": {
    "ExecuteTime": {
     "end_time": "2024-08-17T16:14:57.884076Z",
     "start_time": "2024-08-17T16:11:38.237538Z"
    }
   },
   "cell_type": "code",
   "source": [
    "# Liste des pourcentages de valeurs manquantes à introduire\n",
    "missing_percentages = [0.0, 0.1, 0.2, 0.3, 0.4, 0.5, 0.6, 0.7, 0.8]\n",
    "\n",
    "# Génération des DataFrames avec valeurs manquantes\n",
    "fps_df_with_consistent = consistent_representation(fps_df, missing_percentages, 3,'FPS')\n",
    "heart_df_with_consistent = consistent_representation(heart_df, missing_percentages, 3,'HadHeartAttack')\n",
    "retail_df_with_consistent = consistent_representation(retail_df, missing_percentages, 3)"
   ],
   "id": "896744b9051c31a9",
   "outputs": [],
   "execution_count": 4
  },
  {
   "metadata": {
    "ExecuteTime": {
     "end_time": "2024-08-17T16:15:52.139351Z",
     "start_time": "2024-08-17T16:14:57.885255Z"
    }
   },
   "cell_type": "code",
   "source": [
    "# Enregistrement des DataFrames générés\n",
    "for key, value in fps_df_with_consistent.items():\n",
    "    value.to_csv(f\"../../../Data/Regression/fps in video games/Consistent Representation/fps_{key}.csv\", index=False)\n",
    "\n",
    "for key, value in heart_df_with_consistent.items():\n",
    "    value.to_csv(f\"../../../Data/Classification/Indicators of Heart Disease/Consistent Representation/heart_{key}.csv\", index=False)\n",
    "\n",
    "for key, value in retail_df_with_consistent.items():\n",
    "    value.to_csv(f\"../../../Data/Clustering/retail Data/Consistent Representation/retail_{key}.csv\", index=False)"
   ],
   "id": "6c86d80b00f99574",
   "outputs": [],
   "execution_count": 5
  },
  {
   "metadata": {},
   "cell_type": "code",
   "outputs": [],
   "execution_count": null,
   "source": "",
   "id": "fdc1557391cb0d92"
  }
 ],
 "metadata": {
  "kernelspec": {
   "display_name": "Python 3",
   "language": "python",
   "name": "python3"
  },
  "language_info": {
   "codemirror_mode": {
    "name": "ipython",
    "version": 2
   },
   "file_extension": ".py",
   "mimetype": "text/x-python",
   "name": "python",
   "nbconvert_exporter": "python",
   "pygments_lexer": "ipython2",
   "version": "2.7.6"
  }
 },
 "nbformat": 4,
 "nbformat_minor": 5
}
