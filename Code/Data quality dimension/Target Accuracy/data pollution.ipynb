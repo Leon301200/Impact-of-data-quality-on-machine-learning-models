{
 "cells": [
  {
   "cell_type": "code",
   "id": "453e1b60502236d",
   "metadata": {
    "collapsed": true,
    "ExecuteTime": {
     "end_time": "2024-08-17T16:19:50.097008Z",
     "start_time": "2024-08-17T16:19:50.093937Z"
    }
   },
   "source": [
    "import numpy as np\n",
    "import pandas as pd"
   ],
   "outputs": [],
   "execution_count": 9
  },
  {
   "metadata": {
    "ExecuteTime": {
     "end_time": "2024-08-17T16:19:51.930267Z",
     "start_time": "2024-08-17T16:19:50.570020Z"
    }
   },
   "cell_type": "code",
   "source": [
    "# Chargement des DataSets\n",
    "fps_df = pd.read_csv('../../../Data/Regression/fps in video games/fps-in-video-games_clean.csv')\n",
    "heart_df = pd.read_csv('../../../Data/Classification/Indicators of Heart Disease/heart_2022_no_nans_clean.csv')"
   ],
   "id": "9aacc31626120332",
   "outputs": [
    {
     "name": "stderr",
     "output_type": "stream",
     "text": [
      "/var/folders/qc/m20c7_k95j52q7xcg6lwyd7w0000gn/T/ipykernel_15455/302461350.py:2: DtypeWarning: Columns (25,30) have mixed types. Specify dtype option on import or set low_memory=False.\n",
      "  fps_df = pd.read_csv('../../../Data/Regression/fps in video games/fps-in-video-games_clean.csv')\n"
     ]
    }
   ],
   "execution_count": 10
  },
  {
   "metadata": {
    "ExecuteTime": {
     "end_time": "2024-08-17T16:19:51.934838Z",
     "start_time": "2024-08-17T16:19:51.931235Z"
    }
   },
   "cell_type": "code",
   "source": [
    "def target_accuracy(df, pollution_levels, target_column, noise_factor=1):\n",
    "    df_dict = {}\n",
    "\n",
    "    for pollution_percentage in pollution_levels:\n",
    "        df_polluted = df.copy()\n",
    "\n",
    "        # Vérifier si la colonne cible est catégorique ou numérique\n",
    "        if df_polluted[target_column].dtype == 'object' or pd.api.types.is_categorical_dtype(df_polluted[target_column]):\n",
    "            # Pollution des données catégoriques\n",
    "            unique_values = df_polluted[target_column].unique()\n",
    "\n",
    "            # Sélectionner un sous-ensemble de lignes à polluer\n",
    "            mask = np.random.rand(len(df_polluted)) < pollution_percentage\n",
    "\n",
    "            # Pour chaque ligne sélectionnée, changer la valeur par une autre valeur aléatoire différente\n",
    "            df_polluted.loc[mask, target_column] = df_polluted.loc[mask, target_column].apply(\n",
    "                lambda x: np.random.choice(unique_values[unique_values != x])\n",
    "            )\n",
    "\n",
    "        elif np.issubdtype(df_polluted[target_column].dtype, np.number):\n",
    "            # Pollution des données numériques\n",
    "            mask = np.random.rand(len(df_polluted)) < pollution_percentage\n",
    "\n",
    "            # Vérifier si la colonne ne contient que des valeurs entières (même si elles sont de type float)\n",
    "            is_integer_column = df_polluted[target_column].dropna().apply(lambda x: x == int(x)).all()\n",
    "\n",
    "            if is_integer_column:\n",
    "                # Ajouter du bruit gaussien aux valeurs sélectionnées\n",
    "                noise = np.random.normal(0, df_polluted[target_column].std() * noise_factor, size=len(df_polluted[mask]))\n",
    "                df_polluted.loc[mask, target_column] += noise\n",
    "\n",
    "                # Arrondir à l'entier le plus proche\n",
    "                df_polluted[target_column] = df_polluted[target_column].round(0)\n",
    "            else:\n",
    "                # Récupérer le nombre de décimales de la première valeur non nulle pour garder la précision\n",
    "                precision = df_polluted[target_column].dropna().apply(\n",
    "                    lambda x: len(str(x).split('.')[1]) if '.' in str(x) else 0\n",
    "                ).max()\n",
    "\n",
    "                # Ajouter du bruit gaussien aux valeurs sélectionnées\n",
    "                noise = np.random.normal(0, df_polluted[target_column].std() * noise_factor, size=len(df_polluted[mask]))\n",
    "                df_polluted.loc[mask, target_column] += noise\n",
    "\n",
    "                # Arrondir à la précision originale\n",
    "                df_polluted[target_column] = df_polluted[target_column].round(precision)\n",
    "\n",
    "        else:\n",
    "            raise ValueError(\"Le type de la colonne cible n'est ni catégorique ni numérique.\")\n",
    "\n",
    "        # Ajouter le DataFrame pollué au dictionnaire avec le pourcentage de pollution comme clé\n",
    "        df_dict[f\"{int(pollution_percentage * 100)}%\"] = df_polluted\n",
    "\n",
    "    return df_dict"
   ],
   "id": "initial_id",
   "outputs": [],
   "execution_count": 11
  },
  {
   "metadata": {
    "ExecuteTime": {
     "end_time": "2024-08-17T16:19:58.379949Z",
     "start_time": "2024-08-17T16:19:51.935463Z"
    }
   },
   "cell_type": "code",
   "source": [
    "# Liste des pourcentages de valeurs manquantes à introduire\n",
    "pollution_levels = [0.0, 0.1, 0.2, 0.3, 0.4, 0.5, 0.6, 0.7, 0.8]\n",
    "\n",
    "# Génération des DataFrames avec valeurs manquantes\n",
    "fps_df_with_target_accuracy = target_accuracy(fps_df, pollution_levels,'FPS')\n",
    "heart_df_with_target_accuracy = target_accuracy(heart_df, pollution_levels,'HadHeartAttack')"
   ],
   "id": "73fc688308489ef6",
   "outputs": [
    {
     "name": "stderr",
     "output_type": "stream",
     "text": [
      "/var/folders/qc/m20c7_k95j52q7xcg6lwyd7w0000gn/T/ipykernel_15455/941028117.py:8: DeprecationWarning: is_categorical_dtype is deprecated and will be removed in a future version. Use isinstance(dtype, pd.CategoricalDtype) instead\n",
      "  if df_polluted[target_column].dtype == 'object' or pd.api.types.is_categorical_dtype(df_polluted[target_column]):\n",
      "/var/folders/qc/m20c7_k95j52q7xcg6lwyd7w0000gn/T/ipykernel_15455/941028117.py:8: DeprecationWarning: is_categorical_dtype is deprecated and will be removed in a future version. Use isinstance(dtype, pd.CategoricalDtype) instead\n",
      "  if df_polluted[target_column].dtype == 'object' or pd.api.types.is_categorical_dtype(df_polluted[target_column]):\n",
      "/var/folders/qc/m20c7_k95j52q7xcg6lwyd7w0000gn/T/ipykernel_15455/941028117.py:8: DeprecationWarning: is_categorical_dtype is deprecated and will be removed in a future version. Use isinstance(dtype, pd.CategoricalDtype) instead\n",
      "  if df_polluted[target_column].dtype == 'object' or pd.api.types.is_categorical_dtype(df_polluted[target_column]):\n",
      "/var/folders/qc/m20c7_k95j52q7xcg6lwyd7w0000gn/T/ipykernel_15455/941028117.py:8: DeprecationWarning: is_categorical_dtype is deprecated and will be removed in a future version. Use isinstance(dtype, pd.CategoricalDtype) instead\n",
      "  if df_polluted[target_column].dtype == 'object' or pd.api.types.is_categorical_dtype(df_polluted[target_column]):\n",
      "/var/folders/qc/m20c7_k95j52q7xcg6lwyd7w0000gn/T/ipykernel_15455/941028117.py:8: DeprecationWarning: is_categorical_dtype is deprecated and will be removed in a future version. Use isinstance(dtype, pd.CategoricalDtype) instead\n",
      "  if df_polluted[target_column].dtype == 'object' or pd.api.types.is_categorical_dtype(df_polluted[target_column]):\n",
      "/var/folders/qc/m20c7_k95j52q7xcg6lwyd7w0000gn/T/ipykernel_15455/941028117.py:8: DeprecationWarning: is_categorical_dtype is deprecated and will be removed in a future version. Use isinstance(dtype, pd.CategoricalDtype) instead\n",
      "  if df_polluted[target_column].dtype == 'object' or pd.api.types.is_categorical_dtype(df_polluted[target_column]):\n",
      "/var/folders/qc/m20c7_k95j52q7xcg6lwyd7w0000gn/T/ipykernel_15455/941028117.py:8: DeprecationWarning: is_categorical_dtype is deprecated and will be removed in a future version. Use isinstance(dtype, pd.CategoricalDtype) instead\n",
      "  if df_polluted[target_column].dtype == 'object' or pd.api.types.is_categorical_dtype(df_polluted[target_column]):\n",
      "/var/folders/qc/m20c7_k95j52q7xcg6lwyd7w0000gn/T/ipykernel_15455/941028117.py:8: DeprecationWarning: is_categorical_dtype is deprecated and will be removed in a future version. Use isinstance(dtype, pd.CategoricalDtype) instead\n",
      "  if df_polluted[target_column].dtype == 'object' or pd.api.types.is_categorical_dtype(df_polluted[target_column]):\n",
      "/var/folders/qc/m20c7_k95j52q7xcg6lwyd7w0000gn/T/ipykernel_15455/941028117.py:8: DeprecationWarning: is_categorical_dtype is deprecated and will be removed in a future version. Use isinstance(dtype, pd.CategoricalDtype) instead\n",
      "  if df_polluted[target_column].dtype == 'object' or pd.api.types.is_categorical_dtype(df_polluted[target_column]):\n"
     ]
    }
   ],
   "execution_count": 12
  },
  {
   "metadata": {
    "ExecuteTime": {
     "end_time": "2024-08-17T16:20:40.643502Z",
     "start_time": "2024-08-17T16:19:58.381271Z"
    }
   },
   "cell_type": "code",
   "source": [
    "# Enregistrement des DataFrames générés\n",
    "for key, value in fps_df_with_target_accuracy.items():\n",
    "    value.to_csv(f\"../../../Data/Regression/fps in video games/Target Accuracy/fps_{key}.csv\", index=False)\n",
    "\n",
    "for key, value in heart_df_with_target_accuracy.items():\n",
    "    value.to_csv(f\"../../../Data/Classification/Indicators of Heart Disease/Target Accuracy/heart_{key}.csv\", index=False)"
   ],
   "id": "c6151fff343bf03c",
   "outputs": [],
   "execution_count": 13
  },
  {
   "metadata": {},
   "cell_type": "code",
   "outputs": [],
   "execution_count": null,
   "source": "",
   "id": "dfd701c70367d8c"
  }
 ],
 "metadata": {
  "kernelspec": {
   "display_name": "Python 3",
   "language": "python",
   "name": "python3"
  },
  "language_info": {
   "codemirror_mode": {
    "name": "ipython",
    "version": 2
   },
   "file_extension": ".py",
   "mimetype": "text/x-python",
   "name": "python",
   "nbconvert_exporter": "python",
   "pygments_lexer": "ipython2",
   "version": "2.7.6"
  }
 },
 "nbformat": 4,
 "nbformat_minor": 5
}
