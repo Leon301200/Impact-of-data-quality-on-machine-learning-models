{
 "cells": [
  {
   "cell_type": "code",
   "id": "fa9a605a97a71ab7",
   "metadata": {
    "collapsed": true,
    "ExecuteTime": {
     "end_time": "2024-08-17T16:19:41.490766Z",
     "start_time": "2024-08-17T16:19:41.212199Z"
    }
   },
   "source": [
    "import pandas as pd\n",
    "import numpy as np"
   ],
   "outputs": [],
   "execution_count": 2
  },
  {
   "metadata": {
    "ExecuteTime": {
     "end_time": "2024-08-17T16:19:43.178177Z",
     "start_time": "2024-08-17T16:19:41.621145Z"
    }
   },
   "cell_type": "code",
   "source": [
    "# Chargement des DataSets\n",
    "fps_df = pd.read_csv('../../../Data/Regression/fps in video games/fps-in-video-games_clean.csv')\n",
    "heart_df = pd.read_csv('../../../Data/Classification/Indicators of Heart Disease/heart_2022_no_nans_clean.csv')\n",
    "retail_df = pd.read_csv('../../../Data/Clustering/retail Data/retail_data_clean.csv')"
   ],
   "id": "d63a70e23272033f",
   "outputs": [
    {
     "name": "stderr",
     "output_type": "stream",
     "text": [
      "/var/folders/qc/m20c7_k95j52q7xcg6lwyd7w0000gn/T/ipykernel_15480/3500090452.py:2: DtypeWarning: Columns (25,30) have mixed types. Specify dtype option on import or set low_memory=False.\n",
      "  fps_df = pd.read_csv('../../../Data/Regression/fps in video games/fps-in-video-games_clean.csv')\n"
     ]
    }
   ],
   "execution_count": 3
  },
  {
   "metadata": {
    "ExecuteTime": {
     "end_time": "2024-08-17T16:19:43.182871Z",
     "start_time": "2024-08-17T16:19:43.179275Z"
    }
   },
   "cell_type": "code",
   "source": [
    "def feature_accuracy(df, pollution_levels, target_column=None, noise_factor=1):\n",
    "    df_dict = {}\n",
    "\n",
    "    for pollution_percentage in pollution_levels:\n",
    "        df_polluted = df.copy()\n",
    "\n",
    "        # Pollution des données catégoriques, en excluant la colonne cible\n",
    "        categorical_columns = [col for col in df_polluted.select_dtypes(include=['object', 'category']).columns\n",
    "                               if col != target_column]\n",
    "        for col in categorical_columns:\n",
    "            # Sélectionner un sous-ensemble de lignes à polluer\n",
    "            mask = np.random.rand(len(df_polluted)) < pollution_percentage\n",
    "            unique_values = df_polluted[col].unique()\n",
    "\n",
    "            # Pour chaque ligne sélectionnée, changer la valeur par une autre valeur aléatoire différente\n",
    "            df_polluted.loc[mask, col] = df_polluted.loc[mask, col].apply(\n",
    "                lambda x: np.random.choice(unique_values[unique_values != x])\n",
    "            )\n",
    "\n",
    "        # Pollution des données numériques, en excluant la colonne cible\n",
    "        numeric_columns = [col for col in df_polluted.select_dtypes(include=[np.number]).columns\n",
    "                           if col != target_column]\n",
    "        for col in numeric_columns:\n",
    "            # Sélectionner un sous-ensemble de lignes à polluer\n",
    "            mask = np.random.rand(len(df_polluted)) < pollution_percentage\n",
    "\n",
    "            # Vérifier si la colonne ne contient que des valeurs entières (même si elles sont de type float)\n",
    "            is_integer_column = df_polluted[col].dropna().apply(lambda x: x == int(x)).all()\n",
    "\n",
    "            if is_integer_column:\n",
    "                # Ajouter du bruit gaussien aux valeurs sélectionnées\n",
    "                noise = np.random.normal(0, df_polluted[col].std() * noise_factor, size=len(df_polluted[mask]))\n",
    "                df_polluted.loc[mask, col] += noise\n",
    "\n",
    "                # Arrondir à l'entier le plus proche\n",
    "                df_polluted[col] = df_polluted[col].round(0)  # Arrondir à 0 décimales (donc à l'entier)\n",
    "            else:\n",
    "                # Récupérer le nombre de décimales de la première valeur non nulle pour garder la précision\n",
    "                precision = df_polluted[col].dropna().apply(\n",
    "                    lambda x: len(str(x).split('.')[1]) if '.' in str(x) else 0\n",
    "                ).max()\n",
    "\n",
    "                # Ajouter du bruit gaussien aux valeurs sélectionnées\n",
    "                noise = np.random.normal(0, df_polluted[col].std() * noise_factor, size=len(df_polluted[mask]))\n",
    "                df_polluted.loc[mask, col] += noise\n",
    "\n",
    "                # Arrondir à la précision originale\n",
    "                df_polluted[col] = df_polluted[col].round(precision)\n",
    "\n",
    "        # Ajouter le DataFrame pollué au dictionnaire avec le pourcentage de pollution comme clé\n",
    "        df_dict[f\"{int(pollution_percentage * 100)}%\"] = df_polluted\n",
    "\n",
    "    return df_dict"
   ],
   "id": "initial_id",
   "outputs": [],
   "execution_count": 4
  },
  {
   "metadata": {
    "ExecuteTime": {
     "end_time": "2024-08-17T16:24:46.831221Z",
     "start_time": "2024-08-17T16:19:43.183505Z"
    }
   },
   "cell_type": "code",
   "source": [
    "# Liste des pourcentages de valeurs manquantes à introduire\n",
    "pollution_levels = [0.0, 0.1, 0.2, 0.3, 0.4, 0.5, 0.6, 0.7, 0.8]\n",
    "\n",
    "# Génération des DataFrames avec valeurs manquantes\n",
    "fps_df_with_feature_accuracy = feature_accuracy(fps_df, pollution_levels,'FPS')\n",
    "heart_df_with_feature_accuracy = feature_accuracy(heart_df, pollution_levels,'HadHeartAttack')\n",
    "retail_df_with_feature_accuracy = feature_accuracy(retail_df, pollution_levels)"
   ],
   "id": "a88398430c58578c",
   "outputs": [
    {
     "name": "stderr",
     "output_type": "stream",
     "text": [
      "/var/folders/qc/m20c7_k95j52q7xcg6lwyd7w0000gn/T/ipykernel_15480/1015871928.py:33: FutureWarning: Setting an item of incompatible dtype is deprecated and will raise an error in a future version of pandas. Value '[ 0.01467087  0.36297171 -0.61518537 ...  1.47184361  0.52555169\n",
      "  1.25100318]' has dtype incompatible with int64, please explicitly cast to a compatible dtype first.\n",
      "  df_polluted.loc[mask, col] += noise\n",
      "/var/folders/qc/m20c7_k95j52q7xcg6lwyd7w0000gn/T/ipykernel_15480/1015871928.py:33: FutureWarning: Setting an item of incompatible dtype is deprecated and will raise an error in a future version of pandas. Value '[-0.79372004 -0.07114148 -0.17164539 ...  1.03763643  0.82458276\n",
      "  1.52385086]' has dtype incompatible with int64, please explicitly cast to a compatible dtype first.\n",
      "  df_polluted.loc[mask, col] += noise\n",
      "/var/folders/qc/m20c7_k95j52q7xcg6lwyd7w0000gn/T/ipykernel_15480/1015871928.py:33: FutureWarning: Setting an item of incompatible dtype is deprecated and will raise an error in a future version of pandas. Value '[-0.16517577  0.31609656  0.53817356 ...  0.31406052  0.45814273\n",
      "  1.22036692]' has dtype incompatible with int64, please explicitly cast to a compatible dtype first.\n",
      "  df_polluted.loc[mask, col] += noise\n",
      "/var/folders/qc/m20c7_k95j52q7xcg6lwyd7w0000gn/T/ipykernel_15480/1015871928.py:33: FutureWarning: Setting an item of incompatible dtype is deprecated and will raise an error in a future version of pandas. Value '[ 0.5037785  -0.20294439 -0.96161935 ...  0.56293033 -0.5261632\n",
      "  0.07533347]' has dtype incompatible with int64, please explicitly cast to a compatible dtype first.\n",
      "  df_polluted.loc[mask, col] += noise\n",
      "/var/folders/qc/m20c7_k95j52q7xcg6lwyd7w0000gn/T/ipykernel_15480/1015871928.py:33: FutureWarning: Setting an item of incompatible dtype is deprecated and will raise an error in a future version of pandas. Value '[ 0.54434044 -0.84498378 -0.58624987 ...  1.44600886  1.11820271\n",
      "  1.6107683 ]' has dtype incompatible with int64, please explicitly cast to a compatible dtype first.\n",
      "  df_polluted.loc[mask, col] += noise\n",
      "/var/folders/qc/m20c7_k95j52q7xcg6lwyd7w0000gn/T/ipykernel_15480/1015871928.py:33: FutureWarning: Setting an item of incompatible dtype is deprecated and will raise an error in a future version of pandas. Value '[-0.57107725  0.28541475 -0.31878113 ...  2.29423735  0.93851417\n",
      "  1.06829318]' has dtype incompatible with int64, please explicitly cast to a compatible dtype first.\n",
      "  df_polluted.loc[mask, col] += noise\n",
      "/var/folders/qc/m20c7_k95j52q7xcg6lwyd7w0000gn/T/ipykernel_15480/1015871928.py:33: FutureWarning: Setting an item of incompatible dtype is deprecated and will raise an error in a future version of pandas. Value '[-0.0921197  -0.09475993 -0.92722119 ...  0.68864919  1.5734119\n",
      "  1.23548098]' has dtype incompatible with int64, please explicitly cast to a compatible dtype first.\n",
      "  df_polluted.loc[mask, col] += noise\n",
      "/var/folders/qc/m20c7_k95j52q7xcg6lwyd7w0000gn/T/ipykernel_15480/1015871928.py:33: FutureWarning: Setting an item of incompatible dtype is deprecated and will raise an error in a future version of pandas. Value '[-0.21878079 -0.41131707  0.39559852 ...  1.05944912  0.71989039\n",
      "  1.15108875]' has dtype incompatible with int64, please explicitly cast to a compatible dtype first.\n",
      "  df_polluted.loc[mask, col] += noise\n",
      "/var/folders/qc/m20c7_k95j52q7xcg6lwyd7w0000gn/T/ipykernel_15480/1015871928.py:33: FutureWarning: Setting an item of incompatible dtype is deprecated and will raise an error in a future version of pandas. Value '[ 7.9573519  16.58843171 17.39526518 ...  6.6726661  18.4125341\n",
      " 29.77700512]' has dtype incompatible with int64, please explicitly cast to a compatible dtype first.\n",
      "  df_polluted.loc[mask, col] += noise\n",
      "/var/folders/qc/m20c7_k95j52q7xcg6lwyd7w0000gn/T/ipykernel_15480/1015871928.py:33: FutureWarning: Setting an item of incompatible dtype is deprecated and will raise an error in a future version of pandas. Value '[13.40394774 -1.34435113  7.35586097 ... -3.36084998  1.27994506\n",
      "  2.05754041]' has dtype incompatible with int64, please explicitly cast to a compatible dtype first.\n",
      "  df_polluted.loc[mask, col] += noise\n",
      "/var/folders/qc/m20c7_k95j52q7xcg6lwyd7w0000gn/T/ipykernel_15480/1015871928.py:33: FutureWarning: Setting an item of incompatible dtype is deprecated and will raise an error in a future version of pandas. Value '[2023.28664235 2023.59611775 2022.34696875 ... 2022.32890533 2022.17401911\n",
      " 2023.96972343]' has dtype incompatible with int64, please explicitly cast to a compatible dtype first.\n",
      "  df_polluted.loc[mask, col] += noise\n",
      "/var/folders/qc/m20c7_k95j52q7xcg6lwyd7w0000gn/T/ipykernel_15480/1015871928.py:33: FutureWarning: Setting an item of incompatible dtype is deprecated and will raise an error in a future version of pandas. Value '[-3.35509501 21.26804843  9.35180568 ... 21.35772636 15.25181861\n",
      " -5.45597936]' has dtype incompatible with int64, please explicitly cast to a compatible dtype first.\n",
      "  df_polluted.loc[mask, col] += noise\n",
      "/var/folders/qc/m20c7_k95j52q7xcg6lwyd7w0000gn/T/ipykernel_15480/1015871928.py:33: FutureWarning: Setting an item of incompatible dtype is deprecated and will raise an error in a future version of pandas. Value '[ 3.88116101 11.15974451  7.15133889 ... -3.07747785 13.84967098\n",
      "  8.88324399]' has dtype incompatible with int64, please explicitly cast to a compatible dtype first.\n",
      "  df_polluted.loc[mask, col] += noise\n",
      "/var/folders/qc/m20c7_k95j52q7xcg6lwyd7w0000gn/T/ipykernel_15480/1015871928.py:33: FutureWarning: Setting an item of incompatible dtype is deprecated and will raise an error in a future version of pandas. Value '[2023.11974173 2023.53590756 2022.61316051 ... 2022.44974981 2024.63512229\n",
      " 2023.92823751]' has dtype incompatible with int64, please explicitly cast to a compatible dtype first.\n",
      "  df_polluted.loc[mask, col] += noise\n",
      "/var/folders/qc/m20c7_k95j52q7xcg6lwyd7w0000gn/T/ipykernel_15480/1015871928.py:33: FutureWarning: Setting an item of incompatible dtype is deprecated and will raise an error in a future version of pandas. Value '[25.27326578 14.27163975 20.48193659 ... 43.37805049 13.41544095\n",
      " 35.01412932]' has dtype incompatible with int64, please explicitly cast to a compatible dtype first.\n",
      "  df_polluted.loc[mask, col] += noise\n",
      "/var/folders/qc/m20c7_k95j52q7xcg6lwyd7w0000gn/T/ipykernel_15480/1015871928.py:33: FutureWarning: Setting an item of incompatible dtype is deprecated and will raise an error in a future version of pandas. Value '[ 3.61514436  8.91629346 -0.93129107 ...  3.4196132   9.9825504\n",
      "  0.28301997]' has dtype incompatible with int64, please explicitly cast to a compatible dtype first.\n",
      "  df_polluted.loc[mask, col] += noise\n",
      "/var/folders/qc/m20c7_k95j52q7xcg6lwyd7w0000gn/T/ipykernel_15480/1015871928.py:33: FutureWarning: Setting an item of incompatible dtype is deprecated and will raise an error in a future version of pandas. Value '[2022.59170832 2023.13019315 2022.80928106 ... 2022.98048359 2023.07380413\n",
      " 2023.40984586]' has dtype incompatible with int64, please explicitly cast to a compatible dtype first.\n",
      "  df_polluted.loc[mask, col] += noise\n",
      "/var/folders/qc/m20c7_k95j52q7xcg6lwyd7w0000gn/T/ipykernel_15480/1015871928.py:33: FutureWarning: Setting an item of incompatible dtype is deprecated and will raise an error in a future version of pandas. Value '[31.30758301 -7.01574354 23.37487656 ... 13.01931996 19.26948297\n",
      " 15.0151605 ]' has dtype incompatible with int64, please explicitly cast to a compatible dtype first.\n",
      "  df_polluted.loc[mask, col] += noise\n",
      "/var/folders/qc/m20c7_k95j52q7xcg6lwyd7w0000gn/T/ipykernel_15480/1015871928.py:33: FutureWarning: Setting an item of incompatible dtype is deprecated and will raise an error in a future version of pandas. Value '[ 9.71534899  7.98470278  4.045488   ...  3.76918048  9.27869072\n",
      " -1.75275695]' has dtype incompatible with int64, please explicitly cast to a compatible dtype first.\n",
      "  df_polluted.loc[mask, col] += noise\n",
      "/var/folders/qc/m20c7_k95j52q7xcg6lwyd7w0000gn/T/ipykernel_15480/1015871928.py:33: FutureWarning: Setting an item of incompatible dtype is deprecated and will raise an error in a future version of pandas. Value '[2023.31646763 2023.09257343 2023.10237952 ... 2023.9873224  2022.70349596\n",
      " 2024.23479828]' has dtype incompatible with int64, please explicitly cast to a compatible dtype first.\n",
      "  df_polluted.loc[mask, col] += noise\n",
      "/var/folders/qc/m20c7_k95j52q7xcg6lwyd7w0000gn/T/ipykernel_15480/1015871928.py:33: FutureWarning: Setting an item of incompatible dtype is deprecated and will raise an error in a future version of pandas. Value '[16.86314351 30.38509442 27.7155188  ...  1.79131832  6.07463766\n",
      "  8.03186514]' has dtype incompatible with int64, please explicitly cast to a compatible dtype first.\n",
      "  df_polluted.loc[mask, col] += noise\n",
      "/var/folders/qc/m20c7_k95j52q7xcg6lwyd7w0000gn/T/ipykernel_15480/1015871928.py:33: FutureWarning: Setting an item of incompatible dtype is deprecated and will raise an error in a future version of pandas. Value '[6.90313448 5.28237894 5.17128531 ... 7.73779987 3.82174141 7.76531462]' has dtype incompatible with int64, please explicitly cast to a compatible dtype first.\n",
      "  df_polluted.loc[mask, col] += noise\n",
      "/var/folders/qc/m20c7_k95j52q7xcg6lwyd7w0000gn/T/ipykernel_15480/1015871928.py:33: FutureWarning: Setting an item of incompatible dtype is deprecated and will raise an error in a future version of pandas. Value '[2023.15902526 2022.91325603 2023.89299392 ... 2022.11131385 2023.39286808\n",
      " 2024.23243637]' has dtype incompatible with int64, please explicitly cast to a compatible dtype first.\n",
      "  df_polluted.loc[mask, col] += noise\n",
      "/var/folders/qc/m20c7_k95j52q7xcg6lwyd7w0000gn/T/ipykernel_15480/1015871928.py:33: FutureWarning: Setting an item of incompatible dtype is deprecated and will raise an error in a future version of pandas. Value '[22.44866912 21.82842375 17.50387324 ... 27.07411488 27.81126408\n",
      "  5.72802444]' has dtype incompatible with int64, please explicitly cast to a compatible dtype first.\n",
      "  df_polluted.loc[mask, col] += noise\n",
      "/var/folders/qc/m20c7_k95j52q7xcg6lwyd7w0000gn/T/ipykernel_15480/1015871928.py:33: FutureWarning: Setting an item of incompatible dtype is deprecated and will raise an error in a future version of pandas. Value '[ 7.82765857 10.84761257  3.51802492 ... -1.70480526  2.24852336\n",
      " 10.50674798]' has dtype incompatible with int64, please explicitly cast to a compatible dtype first.\n",
      "  df_polluted.loc[mask, col] += noise\n",
      "/var/folders/qc/m20c7_k95j52q7xcg6lwyd7w0000gn/T/ipykernel_15480/1015871928.py:33: FutureWarning: Setting an item of incompatible dtype is deprecated and will raise an error in a future version of pandas. Value '[2023.10041752 2023.1399453  2022.36104951 ... 2022.71239596 2024.27330909\n",
      " 2023.91575122]' has dtype incompatible with int64, please explicitly cast to a compatible dtype first.\n",
      "  df_polluted.loc[mask, col] += noise\n",
      "/var/folders/qc/m20c7_k95j52q7xcg6lwyd7w0000gn/T/ipykernel_15480/1015871928.py:33: FutureWarning: Setting an item of incompatible dtype is deprecated and will raise an error in a future version of pandas. Value '[26.33310908 46.03059824 30.34972953 ... 14.33285988 19.89989116\n",
      " 13.20504768]' has dtype incompatible with int64, please explicitly cast to a compatible dtype first.\n",
      "  df_polluted.loc[mask, col] += noise\n",
      "/var/folders/qc/m20c7_k95j52q7xcg6lwyd7w0000gn/T/ipykernel_15480/1015871928.py:33: FutureWarning: Setting an item of incompatible dtype is deprecated and will raise an error in a future version of pandas. Value '[13.459205   13.69862389 10.13340216 ...  6.8250693   8.41738236\n",
      " -2.05104553]' has dtype incompatible with int64, please explicitly cast to a compatible dtype first.\n",
      "  df_polluted.loc[mask, col] += noise\n",
      "/var/folders/qc/m20c7_k95j52q7xcg6lwyd7w0000gn/T/ipykernel_15480/1015871928.py:33: FutureWarning: Setting an item of incompatible dtype is deprecated and will raise an error in a future version of pandas. Value '[2023.34808556 2023.16136532 2022.82833236 ... 2024.61693575 2024.56850166\n",
      " 2022.76019912]' has dtype incompatible with int64, please explicitly cast to a compatible dtype first.\n",
      "  df_polluted.loc[mask, col] += noise\n",
      "/var/folders/qc/m20c7_k95j52q7xcg6lwyd7w0000gn/T/ipykernel_15480/1015871928.py:33: FutureWarning: Setting an item of incompatible dtype is deprecated and will raise an error in a future version of pandas. Value '[40.4534769  38.23876114 14.94345107 ... 11.60228032  6.93088475\n",
      "  3.79342265]' has dtype incompatible with int64, please explicitly cast to a compatible dtype first.\n",
      "  df_polluted.loc[mask, col] += noise\n",
      "/var/folders/qc/m20c7_k95j52q7xcg6lwyd7w0000gn/T/ipykernel_15480/1015871928.py:33: FutureWarning: Setting an item of incompatible dtype is deprecated and will raise an error in a future version of pandas. Value '[10.95012342  7.6504758   7.31418853 ...  3.74009523  0.73976312\n",
      "  5.77483689]' has dtype incompatible with int64, please explicitly cast to a compatible dtype first.\n",
      "  df_polluted.loc[mask, col] += noise\n",
      "/var/folders/qc/m20c7_k95j52q7xcg6lwyd7w0000gn/T/ipykernel_15480/1015871928.py:33: FutureWarning: Setting an item of incompatible dtype is deprecated and will raise an error in a future version of pandas. Value '[2022.34553821 2023.06462335 2022.52489742 ... 2022.7693374  2022.48900356\n",
      " 2023.35937991]' has dtype incompatible with int64, please explicitly cast to a compatible dtype first.\n",
      "  df_polluted.loc[mask, col] += noise\n"
     ]
    }
   ],
   "execution_count": 5
  },
  {
   "metadata": {
    "ExecuteTime": {
     "end_time": "2024-08-17T16:25:39.693025Z",
     "start_time": "2024-08-17T16:24:46.832274Z"
    }
   },
   "cell_type": "code",
   "source": [
    "# Enregistrement des DataFrames générés\n",
    "for key, value in fps_df_with_feature_accuracy.items():\n",
    "    value.to_csv(f\"../../../Data/Regression/fps in video games/Feature Accuracy/fps_{key}.csv\", index=False)\n",
    "\n",
    "for key, value in heart_df_with_feature_accuracy.items():\n",
    "    value.to_csv(f\"../../../Data/Classification/Indicators of Heart Disease/Feature Accuracy/heart_{key}.csv\", index=False)\n",
    "\n",
    "for key, value in retail_df_with_feature_accuracy.items():\n",
    "    value.to_csv(f\"../../../Data/Clustering/retail Data/Feature Accuracy/retail_{key}.csv\", index=False)"
   ],
   "id": "de2929652ce8df3d",
   "outputs": [],
   "execution_count": 6
  },
  {
   "metadata": {},
   "cell_type": "code",
   "outputs": [],
   "execution_count": null,
   "source": "",
   "id": "a8553e73249f1d30"
  }
 ],
 "metadata": {
  "kernelspec": {
   "display_name": "Python 3",
   "language": "python",
   "name": "python3"
  },
  "language_info": {
   "codemirror_mode": {
    "name": "ipython",
    "version": 2
   },
   "file_extension": ".py",
   "mimetype": "text/x-python",
   "name": "python",
   "nbconvert_exporter": "python",
   "pygments_lexer": "ipython2",
   "version": "2.7.6"
  }
 },
 "nbformat": 4,
 "nbformat_minor": 5
}
