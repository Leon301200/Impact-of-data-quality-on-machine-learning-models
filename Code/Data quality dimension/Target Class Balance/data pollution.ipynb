{
 "cells": [
  {
   "cell_type": "code",
   "id": "3f5ebe6208971398",
   "metadata": {
    "collapsed": true,
    "ExecuteTime": {
     "end_time": "2024-08-17T16:19:57.210743Z",
     "start_time": "2024-08-17T16:19:57.207718Z"
    }
   },
   "source": [
    "import pandas as pd\n",
    "import numpy as np"
   ],
   "outputs": [],
   "execution_count": 9
  },
  {
   "metadata": {
    "ExecuteTime": {
     "end_time": "2024-08-17T16:19:58.256339Z",
     "start_time": "2024-08-17T16:19:57.625226Z"
    }
   },
   "cell_type": "code",
   "source": [
    "# Chargement des DataSets\n",
    "heart_df = pd.read_csv('../../../Data/Classification/Indicators of Heart Disease/heart_2022_no_nans_clean.csv')"
   ],
   "id": "c1cc428ea1c32de9",
   "outputs": [],
   "execution_count": 10
  },
  {
   "metadata": {
    "ExecuteTime": {
     "end_time": "2024-08-17T16:19:58.260470Z",
     "start_time": "2024-08-17T16:19:58.257126Z"
    }
   },
   "cell_type": "code",
   "source": [
    "def target_class_balance(df, imbalance_levels, target_column):\n",
    "    df_dict = {}\n",
    "\n",
    "    for imbalance_factor in imbalance_levels:\n",
    "        df_polluted = df.copy()\n",
    "\n",
    "        # Vérifier que le facteur de déséquilibre est entre 0 et 1\n",
    "        if not 0 <= imbalance_factor <= 1:\n",
    "            raise ValueError(\"Le facteur de déséquilibre doit être compris entre 0 et 1.\")\n",
    "\n",
    "        # Compter le nombre d'occurrences de chaque classe\n",
    "        class_counts = df_polluted[target_column].value_counts()\n",
    "        min_class = class_counts.idxmin()  # Classe minoritaire\n",
    "        max_class = class_counts.idxmax()  # Classe majoritaire\n",
    "\n",
    "        # Calculer le nombre de lignes à ajouter ou retirer\n",
    "        total_samples = len(df_polluted)\n",
    "\n",
    "        new_class_counts = {}\n",
    "        for class_label, count in class_counts.items():\n",
    "            if class_label == max_class:\n",
    "                # Réduire le nombre de la classe majoritaire\n",
    "                new_class_counts[class_label] = int(count * imbalance_factor)\n",
    "            else:\n",
    "                # Augmenter le nombre des autres classes\n",
    "                new_class_counts[class_label] = count + int((total_samples - count) * (1 - imbalance_factor))\n",
    "\n",
    "        # Créer le DataFrame pollué avec le nouvel équilibre des classes\n",
    "        df_balanced = pd.DataFrame()\n",
    "        for class_label, new_count in new_class_counts.items():\n",
    "            class_df = df_polluted[df_polluted[target_column] == class_label]\n",
    "            if new_count > len(class_df):\n",
    "                # Répéter les lignes pour augmenter le nombre\n",
    "                repeats = int(np.ceil(new_count / len(class_df)))\n",
    "                df_balanced = pd.concat([df_balanced, pd.concat([class_df] * repeats).iloc[:new_count]], ignore_index=True)\n",
    "            else:\n",
    "                # Échantillonner les lignes pour réduire le nombre\n",
    "                df_balanced = pd.concat([df_balanced, class_df.sample(new_count, random_state=42)], ignore_index=True)\n",
    "\n",
    "        # Ajouter le DataFrame déséquilibré au dictionnaire avec le facteur de déséquilibre comme clé\n",
    "        df_dict[f\"{int(imbalance_factor * 100)}%\"] = df_balanced\n",
    "\n",
    "    return df_dict"
   ],
   "id": "initial_id",
   "outputs": [],
   "execution_count": 11
  },
  {
   "metadata": {
    "ExecuteTime": {
     "end_time": "2024-08-17T16:20:00.647711Z",
     "start_time": "2024-08-17T16:19:58.521080Z"
    }
   },
   "cell_type": "code",
   "source": [
    "# Liste des pourcentages de valeurs manquantes à introduire\n",
    "imbalance_levels = [0.0, 0.1, 0.2, 0.3, 0.4, 0.5, 0.6, 0.7, 0.8, 0.9, 1]\n",
    "\n",
    "# Génération des DataFrames avec valeurs manquantes\n",
    "heart_df_with_target_class_balance = target_class_balance(heart_df, imbalance_levels,'HadHeartAttack')"
   ],
   "id": "203f7f460e9e24d4",
   "outputs": [],
   "execution_count": 12
  },
  {
   "metadata": {
    "ExecuteTime": {
     "end_time": "2024-08-17T16:20:15.364789Z",
     "start_time": "2024-08-17T16:20:00.648547Z"
    }
   },
   "cell_type": "code",
   "source": [
    "for key, value in heart_df_with_target_class_balance.items():\n",
    "    value.to_csv(f\"../../../Data/Classification/Indicators of Heart Disease/Target Class Balance/heart_{key}.csv\", index=False)"
   ],
   "id": "1cf9a841d1542dc1",
   "outputs": [],
   "execution_count": 13
  },
  {
   "metadata": {},
   "cell_type": "code",
   "outputs": [],
   "execution_count": null,
   "source": "",
   "id": "6b3fa4524fc53dc5"
  }
 ],
 "metadata": {
  "kernelspec": {
   "display_name": "Python 3",
   "language": "python",
   "name": "python3"
  },
  "language_info": {
   "codemirror_mode": {
    "name": "ipython",
    "version": 2
   },
   "file_extension": ".py",
   "mimetype": "text/x-python",
   "name": "python",
   "nbconvert_exporter": "python",
   "pygments_lexer": "ipython2",
   "version": "2.7.6"
  }
 },
 "nbformat": 4,
 "nbformat_minor": 5
}
